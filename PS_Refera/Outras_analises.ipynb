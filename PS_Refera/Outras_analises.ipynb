{
  "nbformat": 4,
  "nbformat_minor": 0,
  "metadata": {
    "colab": {
      "name": "Untitled10.ipynb",
      "provenance": []
    },
    "kernelspec": {
      "name": "python3",
      "display_name": "Python 3"
    },
    "language_info": {
      "name": "python"
    }
  },
  "cells": [
    {
      "cell_type": "code",
      "metadata": {
        "colab": {
          "base_uri": "https://localhost:8080/"
        },
        "id": "jDCzksvIDnCR",
        "outputId": "4f5896ca-062b-413b-dfd0-876b83ced616"
      },
      "source": [
        "import pandas as pd\n",
        "!pip install openpyxl"
      ],
      "execution_count": 37,
      "outputs": [
        {
          "output_type": "stream",
          "name": "stdout",
          "text": [
            "Requirement already satisfied: openpyxl in /usr/local/lib/python3.7/dist-packages (2.5.9)\n",
            "Requirement already satisfied: et-xmlfile in /usr/local/lib/python3.7/dist-packages (from openpyxl) (1.1.0)\n",
            "Requirement already satisfied: jdcal in /usr/local/lib/python3.7/dist-packages (from openpyxl) (1.4.1)\n"
          ]
        }
      ]
    },
    {
      "cell_type": "code",
      "metadata": {
        "id": "ctJjygvqD4Uj"
      },
      "source": [
        "dm_dclientes = pd.read_excel('/content/DM_Dimensoes.xlsx')\n",
        "dm_dcupons = pd.read_csv('/content/DM_FatoCabecalho.txt', sep='\\t')\n",
        "dm_fvendas = pd.read_csv('/content/DM_FatoDetalhes.csv', sep=';')"
      ],
      "execution_count": 144,
      "outputs": []
    },
    {
      "cell_type": "code",
      "metadata": {
        "id": "-hKiKjqougsG"
      },
      "source": [
        "columns=['Valor','Desconto','Custo','ValorLiquido']\n",
        "dm_fvendas[columns]=dm_fvendas[columns].replace({',': '.'}, regex=True).astype(float)\n"
      ],
      "execution_count": 145,
      "outputs": []
    },
    {
      "cell_type": "code",
      "metadata": {
        "colab": {
          "base_uri": "https://localhost:8080/"
        },
        "id": "eUv01OosEWum",
        "outputId": "c8c1b19e-06e2-4f74-81c7-97dd07eedb20"
      },
      "source": [
        "produtos = dm_fvendas.groupby(['ProdutoID'])['Quantidade','Valor'].sum()\n",
        "produtos['Preco_Medio']=produtos['Valor']/produtos['Quantidade']\n",
        "c_produtos = produtos[['Preco_Medio','Quantidade']]"
      ],
      "execution_count": 146,
      "outputs": [
        {
          "output_type": "stream",
          "name": "stderr",
          "text": [
            "/usr/local/lib/python3.7/dist-packages/ipykernel_launcher.py:1: FutureWarning:\n",
            "\n",
            "Indexing with multiple keys (implicitly converted to a tuple of keys) will be deprecated, use a list instead.\n",
            "\n"
          ]
        }
      ]
    },
    {
      "cell_type": "code",
      "metadata": {
        "colab": {
          "base_uri": "https://localhost:8080/",
          "height": 450
        },
        "id": "EvI1H-FXX1_2",
        "outputId": "6164b80c-2a82-4794-95b7-25d3fb98372a"
      },
      "source": [
        "c_produtos"
      ],
      "execution_count": 147,
      "outputs": [
        {
          "output_type": "execute_result",
          "data": {
            "text/html": [
              "<div>\n",
              "<style scoped>\n",
              "    .dataframe tbody tr th:only-of-type {\n",
              "        vertical-align: middle;\n",
              "    }\n",
              "\n",
              "    .dataframe tbody tr th {\n",
              "        vertical-align: top;\n",
              "    }\n",
              "\n",
              "    .dataframe thead th {\n",
              "        text-align: right;\n",
              "    }\n",
              "</style>\n",
              "<table border=\"1\" class=\"dataframe\">\n",
              "  <thead>\n",
              "    <tr style=\"text-align: right;\">\n",
              "      <th></th>\n",
              "      <th>Preco_Medio</th>\n",
              "      <th>Quantidade</th>\n",
              "    </tr>\n",
              "    <tr>\n",
              "      <th>ProdutoID</th>\n",
              "      <th></th>\n",
              "      <th></th>\n",
              "    </tr>\n",
              "  </thead>\n",
              "  <tbody>\n",
              "    <tr>\n",
              "      <th>1</th>\n",
              "      <td>21.998080</td>\n",
              "      <td>828</td>\n",
              "    </tr>\n",
              "    <tr>\n",
              "      <th>2</th>\n",
              "      <td>21.247994</td>\n",
              "      <td>1067</td>\n",
              "    </tr>\n",
              "    <tr>\n",
              "      <th>3</th>\n",
              "      <td>20.144253</td>\n",
              "      <td>388</td>\n",
              "    </tr>\n",
              "    <tr>\n",
              "      <th>4</th>\n",
              "      <td>24.141736</td>\n",
              "      <td>455</td>\n",
              "    </tr>\n",
              "    <tr>\n",
              "      <th>5</th>\n",
              "      <td>6.519497</td>\n",
              "      <td>298</td>\n",
              "    </tr>\n",
              "    <tr>\n",
              "      <th>...</th>\n",
              "      <td>...</td>\n",
              "      <td>...</td>\n",
              "    </tr>\n",
              "    <tr>\n",
              "      <th>73</th>\n",
              "      <td>1.178378</td>\n",
              "      <td>296</td>\n",
              "    </tr>\n",
              "    <tr>\n",
              "      <th>74</th>\n",
              "      <td>31.323502</td>\n",
              "      <td>297</td>\n",
              "    </tr>\n",
              "    <tr>\n",
              "      <th>75</th>\n",
              "      <td>8.135833</td>\n",
              "      <td>1315</td>\n",
              "    </tr>\n",
              "    <tr>\n",
              "      <th>76</th>\n",
              "      <td>416.589715</td>\n",
              "      <td>981</td>\n",
              "    </tr>\n",
              "    <tr>\n",
              "      <th>77</th>\n",
              "      <td>13.778874</td>\n",
              "      <td>799</td>\n",
              "    </tr>\n",
              "  </tbody>\n",
              "</table>\n",
              "<p>77 rows × 2 columns</p>\n",
              "</div>"
            ],
            "text/plain": [
              "           Preco_Medio  Quantidade\n",
              "ProdutoID                         \n",
              "1            21.998080         828\n",
              "2            21.247994        1067\n",
              "3            20.144253         388\n",
              "4            24.141736         455\n",
              "5             6.519497         298\n",
              "...                ...         ...\n",
              "73            1.178378         296\n",
              "74           31.323502         297\n",
              "75            8.135833        1315\n",
              "76          416.589715         981\n",
              "77           13.778874         799\n",
              "\n",
              "[77 rows x 2 columns]"
            ]
          },
          "metadata": {},
          "execution_count": 147
        }
      ]
    },
    {
      "cell_type": "code",
      "metadata": {
        "colab": {
          "base_uri": "https://localhost:8080/",
          "height": 283
        },
        "id": "uU8fmgwgMV8x",
        "outputId": "00c63ccb-d935-4a0f-f15f-6a6a5f0cd5a6"
      },
      "source": [
        "c_produtos.boxplot(['Preco_Medio'])"
      ],
      "execution_count": 148,
      "outputs": [
        {
          "output_type": "execute_result",
          "data": {
            "text/plain": [
              "<matplotlib.axes._subplots.AxesSubplot at 0x7efdd39b8450>"
            ]
          },
          "metadata": {},
          "execution_count": 148
        },
        {
          "output_type": "display_data",
          "data": {
            "image/png": "[encoded data removed]",
            "text/plain": [
              "<Figure size 432x288 with 1 Axes>"
            ]
          },
          "metadata": {
            "needs_background": "light"
          }
        }
      ]
    },
    {
      "cell_type": "code",
      "metadata": {
        "id": "mDzpw9uBGLHF"
      },
      "source": [
        "from sklearn.cluster import KMeans\n",
        "from sklearn.preprocessing import StandardScaler"
      ],
      "execution_count": 44,
      "outputs": []
    },
    {
      "cell_type": "code",
      "metadata": {
        "id": "SgcmviY3RQi0"
      },
      "source": [
        "normalizar_dados = StandardScaler()\n",
        "dados_normalizados = normalizar_dados.fit_transform(c_produtos)"
      ],
      "execution_count": 149,
      "outputs": []
    },
    {
      "cell_type": "code",
      "metadata": {
        "colab": {
          "base_uri": "https://localhost:8080/"
        },
        "id": "T0mMaGCKZW77",
        "outputId": "fc06bea2-3682-48cb-b31e-0fef86c21dd9"
      },
      "source": [
        "dados_normalizados"
      ],
      "execution_count": 150,
      "outputs": [
        {
          "output_type": "execute_result",
          "data": {
            "text/plain": [
              "array([[-0.21595062,  0.46138211],\n",
              "       [-0.23072051,  1.18715481],\n",
              "       [-0.25245423, -0.87476848],\n",
              "       [-0.17374   , -0.67130919],\n",
              "       [-0.52073854, -1.14807201],\n",
              "       [-0.5696415 , -0.99016331],\n",
              "       [ 0.15053389,  0.30651011],\n",
              "       [-0.22636319, -0.91424566],\n",
              "       [ 0.2726333 , -1.74933978],\n",
              "       [-0.50812643,  0.24273928],\n",
              "       [-0.0615796 ,  0.09090399],\n",
              "       [-0.44587004, -0.9840899 ],\n",
              "       [-0.13109586,  0.70128187],\n",
              "       [-0.15735237, -0.37371201],\n",
              "       [-0.52289464, -1.68253225],\n",
              "       [-0.44787497,  1.53333928],\n",
              "       [-0.12054683,  0.91688799],\n",
              "       [-0.090335  , -0.4162259 ],\n",
              "       [-0.45764979,  0.14252799],\n",
              "       [ 1.05425728, -1.06000754],\n",
              "       [-0.44152462,  1.0778334 ],\n",
              "       [-0.58006076, -0.95068613],\n",
              "       [-0.46226116, -0.25528048],\n",
              "       [-0.55631226,  1.51511905],\n",
              "       [-0.35262989, -1.0873379 ],\n",
              "       [ 0.01838092,  0.23362916],\n",
              "       [ 0.18457187, -0.94461272],\n",
              "       [ 0.27862587, -0.1095186 ],\n",
              "       [ 2.06195465,  0.21237222],\n",
              "       [-0.09024469, -0.19454637],\n",
              "       [-0.4690528 ,  2.18926776],\n",
              "       [-0.23139208, -1.12377837],\n",
              "       [-0.12365216,  0.24881269],\n",
              "       [-0.48686332, -0.51643719],\n",
              "       [-0.52366131,  0.62840093],\n",
              "       [-0.48196927,  0.39153787],\n",
              "       [-0.56221387, -1.65216519],\n",
              "       [ 1.05158412, -0.1611426 ],\n",
              "       [ 0.587034  ,  0.37939105],\n",
              "       [-0.25867787,  1.29647623],\n",
              "       [-0.44812057,  0.94118164],\n",
              "       [-0.3510587 ,  0.09394069],\n",
              "       [-0.3961722 , -0.29172095],\n",
              "       [ 0.90789591, -0.22795013],\n",
              "       [-0.44730932, -0.51036378],\n",
              "       [-0.39696766, -0.37371201],\n",
              "       [-0.09010255, -0.56502448],\n",
              "       [ 0.0561818 , -1.63394496],\n",
              "       [-0.25532083, -0.47392331],\n",
              "       [-0.32870924, -1.33938448],\n",
              "       [ 1.42088377,  0.64662117],\n",
              "       [ 0.99398871, -0.51643719],\n",
              "       [ 0.62043442,  0.13949128],\n",
              "       [ 0.10668328,  0.23970258],\n",
              "       [ 0.19534669,  0.69824517],\n",
              "       [ 0.16263305,  1.78234917],\n",
              "       [-0.26454637, -0.68952943],\n",
              "       [ 0.41774141, -0.43140942],\n",
              "       [-0.47110772,  2.48990164],\n",
              "       [-0.54232548,  2.75409505],\n",
              "       [-0.06298242, -0.22187672],\n",
              "       [-0.04581617,  1.25092564],\n",
              "       [-0.22731276, -0.70167625],\n",
              "       [ 0.05479767,  0.23362916],\n",
              "       [-0.44404099,  0.20933552],\n",
              "       [-0.26621837, -1.30598072],\n",
              "       [ 0.6305324 , -1.49425649],\n",
              "       [-0.38445374,  0.37331764],\n",
              "       [-0.6055773 ,  0.11519764],\n",
              "       [-0.04739086,  0.42797834],\n",
              "       [-0.01472874,  1.15678775],\n",
              "       [-0.41197379,  0.39457458],\n",
              "       [-0.62591021, -1.15414543],\n",
              "       [-0.03232426, -1.15110872],\n",
              "       [-0.48891136,  1.94025787],\n",
              "       [ 7.55393135,  0.92599811],\n",
              "       [-0.37779456,  0.37331764]])"
            ]
          },
          "metadata": {},
          "execution_count": 150
        }
      ]
    },
    {
      "cell_type": "code",
      "metadata": {
        "id": "w8jfrrYvGRau"
      },
      "source": [
        "def calcular_wcss(dados_normalizados):\n",
        "  wcss=[]\n",
        "  for k in range(1,11):\n",
        "    kmeans=KMeans(n_clusters=k)\n",
        "    kmeans.fit(X=dados_normalizados)\n",
        "    wcss.append(kmeans.inertia_)\n",
        "  return wcss\n"
      ],
      "execution_count": 194,
      "outputs": []
    },
    {
      "cell_type": "code",
      "metadata": {
        "id": "EuwGcyNHmFqD"
      },
      "source": [
        "wcss_produtos = calcular_wcss(dados_normalizados)"
      ],
      "execution_count": 197,
      "outputs": []
    },
    {
      "cell_type": "code",
      "metadata": {
        "colab": {
          "base_uri": "https://localhost:8080/"
        },
        "id": "d4Lj7JvEGzyZ",
        "outputId": "35a3b6b5-9320-4cec-bf67-7edc58effc9b"
      },
      "source": [
        "for i in range(len(wcss_produtos)):\n",
        "  print(f'O cluster {i} possui valor WCSS de: {wcss_produtos[i]}')\n"
      ],
      "execution_count": 191,
      "outputs": [
        {
          "output_type": "stream",
          "name": "stdout",
          "text": [
            "O cluster 0 possui valor WCSS de: 154.0\n",
            "O cluster 1 possui valor WCSS de: 95.31855195188592\n",
            "O cluster 2 possui valor WCSS de: 46.4106075570946\n",
            "O cluster 3 possui valor WCSS de: 29.507001246293413\n",
            "O cluster 4 possui valor WCSS de: 19.45375299577102\n",
            "O cluster 5 possui valor WCSS de: 15.179456552250535\n",
            "O cluster 6 possui valor WCSS de: 11.993867093282855\n",
            "O cluster 7 possui valor WCSS de: 10.412551786398053\n",
            "O cluster 8 possui valor WCSS de: 8.209341970577796\n",
            "O cluster 9 possui valor WCSS de: 6.784602636949333\n"
          ]
        }
      ]
    },
    {
      "cell_type": "code",
      "metadata": {
        "id": "YK4lFZsSG-Fi"
      },
      "source": [
        "import plotly.express as px\n",
        "import plotly.offline as py\n",
        "import plotly.graph_objects as go"
      ],
      "execution_count": 50,
      "outputs": []
    },
    {
      "cell_type": "code",
      "metadata": {
        "colab": {
          "base_uri": "https://localhost:8080/",
          "height": 542
        },
        "id": "KqWG-a-aG-yp",
        "outputId": "f184d59b-7ab4-425f-f5df-4728f83f2d39"
      },
      "source": [
        "grafico_wcss = px.line (x=range(1,11),\n",
        "                        y=wcss_produtos\n",
        "                        )\n",
        "fig = go.Figure(grafico_wcss)\n",
        "fig.update_layout(title='calculando o WCSS',\n",
        "                  xaxis_title='Número de clusters',\n",
        "                  yaxis_title='Valor do WCSS',\n",
        "                  template='plotly_white'\n",
        ")\n",
        " \n",
        "fig.show()\n"
      ],
      "execution_count": 192,
      "outputs": [
        {
          "output_type": "display_data",
          "data": {
            "text/html": [
              "<html>\n",
              "<head><meta charset=\"utf-8\" /></head>\n",
              "<body>\n",
              "    <div>\n",
              "            <script src=\"https://cdnjs.cloudflare.com/ajax/libs/mathjax/2.7.5/MathJax.js?config=TeX-AMS-MML_SVG\"></script><script type=\"text/javascript\">if (window.MathJax) {MathJax.Hub.Config({SVG: {font: \"STIX-Web\"}});}</script>\n",
              "                <script type=\"text/javascript\">window.PlotlyConfig = {MathJaxConfig: 'local'};</script>\n",
              "        <script src=\"https://cdn.plot.ly/plotly-latest.min.js\"></script>    \n",
              "            <div id=\"4fd0412d-e2b6-4323-bd23-1ff0d869608a\" class=\"plotly-graph-div\" style=\"height:525px; width:100%;\"></div>\n",
              "            <script type=\"text/javascript\">\n",
              "                \n",
              "                    window.PLOTLYENV=window.PLOTLYENV || {};\n",
              "                    \n",
              "                if (document.getElementById(\"4fd0412d-e2b6-4323-bd23-1ff0d869608a\")) {\n",
              "                    Plotly.newPlot(\n",
              "                        '4fd0412d-e2b6-4323-bd23-1ff0d869608a',\n",
              "                        [{\"hoverlabel\": {\"namelength\": 0}, \"hovertemplate\": \"x=%{x}<br>y=%{y}\", \"legendgroup\": \"\", \"line\": {\"color\": \"#636efa\", \"dash\": \"solid\"}, \"mode\": \"lines\", \"name\": \"\", \"showlegend\": false, \"type\": \"scatter\", \"x\": [1, 2, 3, 4, 5, 6, 7, 8, 9, 10], \"xaxis\": \"x\", \"y\": [154.0, 95.31855195188592, 46.4106075570946, 29.507001246293413, 19.45375299577102, 15.179456552250535, 11.993867093282855, 10.412551786398053, 8.209341970577796, 6.784602636949333], \"yaxis\": \"y\"}],\n",
              "                        {\"legend\": {\"tracegroupgap\": 0}, \"margin\": {\"t\": 60}, \"template\": {\"data\": {\"bar\": [{\"error_x\": {\"color\": \"#2a3f5f\"}, \"error_y\": {\"color\": \"#2a3f5f\"}, \"marker\": {\"line\": {\"color\": \"white\", \"width\": 0.5}}, \"type\": \"bar\"}], \"barpolar\": [{\"marker\": {\"line\": {\"color\": \"white\", \"width\": 0.5}}, \"type\": \"barpolar\"}], \"carpet\": [{\"aaxis\": {\"endlinecolor\": \"#2a3f5f\", \"gridcolor\": \"#C8D4E3\", \"linecolor\": \"#C8D4E3\", \"minorgridcolor\": \"#C8D4E3\", \"startlinecolor\": \"#2a3f5f\"}, \"baxis\": {\"endlinecolor\": \"#2a3f5f\", \"gridcolor\": \"#C8D4E3\", \"linecolor\": \"#C8D4E3\", \"minorgridcolor\": \"#C8D4E3\", \"startlinecolor\": \"#2a3f5f\"}, \"type\": \"carpet\"}], \"choropleth\": [{\"colorbar\": {\"outlinewidth\": 0, \"ticks\": \"\"}, \"type\": \"choropleth\"}], \"contour\": [{\"colorbar\": {\"outlinewidth\": 0, \"ticks\": \"\"}, \"colorscale\": [[0.0, \"#0d0887\"], [0.1111111111111111, \"#46039f\"], [0.2222222222222222, \"#7201a8\"], [0.3333333333333333, \"#9c179e\"], [0.4444444444444444, \"#bd3786\"], [0.5555555555555556, \"#d8576b\"], [0.6666666666666666, \"#ed7953\"], [0.7777777777777778, \"#fb9f3a\"], [0.8888888888888888, \"#fdca26\"], [1.0, \"#f0f921\"]], \"type\": \"contour\"}], \"contourcarpet\": [{\"colorbar\": {\"outlinewidth\": 0, \"ticks\": \"\"}, \"type\": \"contourcarpet\"}], \"heatmap\": [{\"colorbar\": {\"outlinewidth\": 0, \"ticks\": \"\"}, \"colorscale\": [[0.0, \"#0d0887\"], [0.1111111111111111, \"#46039f\"], [0.2222222222222222, \"#7201a8\"], [0.3333333333333333, \"#9c179e\"], [0.4444444444444444, \"#bd3786\"], [0.5555555555555556, \"#d8576b\"], [0.6666666666666666, \"#ed7953\"], [0.7777777777777778, \"#fb9f3a\"], [0.8888888888888888, \"#fdca26\"], [1.0, \"#f0f921\"]], \"type\": \"heatmap\"}], \"heatmapgl\": [{\"colorbar\": {\"outlinewidth\": 0, \"ticks\": \"\"}, \"colorscale\": [[0.0, \"#0d0887\"], [0.1111111111111111, \"#46039f\"], [0.2222222222222222, \"#7201a8\"], [0.3333333333333333, \"#9c179e\"], [0.4444444444444444, \"#bd3786\"], [0.5555555555555556, \"#d8576b\"], [0.6666666666666666, \"#ed7953\"], [0.7777777777777778, \"#fb9f3a\"], [0.8888888888888888, \"#fdca26\"], [1.0, \"#f0f921\"]], \"type\": \"heatmapgl\"}], \"histogram\": [{\"marker\": {\"colorbar\": {\"outlinewidth\": 0, \"ticks\": \"\"}}, \"type\": \"histogram\"}], \"histogram2d\": [{\"colorbar\": {\"outlinewidth\": 0, \"ticks\": \"\"}, \"colorscale\": [[0.0, \"#0d0887\"], [0.1111111111111111, \"#46039f\"], [0.2222222222222222, \"#7201a8\"], [0.3333333333333333, \"#9c179e\"], [0.4444444444444444, \"#bd3786\"], [0.5555555555555556, \"#d8576b\"], [0.6666666666666666, \"#ed7953\"], [0.7777777777777778, \"#fb9f3a\"], [0.8888888888888888, \"#fdca26\"], [1.0, \"#f0f921\"]], \"type\": \"histogram2d\"}], \"histogram2dcontour\": [{\"colorbar\": {\"outlinewidth\": 0, \"ticks\": \"\"}, \"colorscale\": [[0.0, \"#0d0887\"], [0.1111111111111111, \"#46039f\"], [0.2222222222222222, \"#7201a8\"], [0.3333333333333333, \"#9c179e\"], [0.4444444444444444, \"#bd3786\"], [0.5555555555555556, \"#d8576b\"], [0.6666666666666666, \"#ed7953\"], [0.7777777777777778, \"#fb9f3a\"], [0.8888888888888888, \"#fdca26\"], [1.0, \"#f0f921\"]], \"type\": \"histogram2dcontour\"}], \"mesh3d\": [{\"colorbar\": {\"outlinewidth\": 0, \"ticks\": \"\"}, \"type\": \"mesh3d\"}], \"parcoords\": [{\"line\": {\"colorbar\": {\"outlinewidth\": 0, \"ticks\": \"\"}}, \"type\": \"parcoords\"}], \"pie\": [{\"automargin\": true, \"type\": \"pie\"}], \"scatter\": [{\"marker\": {\"colorbar\": {\"outlinewidth\": 0, \"ticks\": \"\"}}, \"type\": \"scatter\"}], \"scatter3d\": [{\"line\": {\"colorbar\": {\"outlinewidth\": 0, \"ticks\": \"\"}}, \"marker\": {\"colorbar\": {\"outlinewidth\": 0, \"ticks\": \"\"}}, \"type\": \"scatter3d\"}], \"scattercarpet\": [{\"marker\": {\"colorbar\": {\"outlinewidth\": 0, \"ticks\": \"\"}}, \"type\": \"scattercarpet\"}], \"scattergeo\": [{\"marker\": {\"colorbar\": {\"outlinewidth\": 0, \"ticks\": \"\"}}, \"type\": \"scattergeo\"}], \"scattergl\": [{\"marker\": {\"colorbar\": {\"outlinewidth\": 0, \"ticks\": \"\"}}, \"type\": \"scattergl\"}], \"scattermapbox\": [{\"marker\": {\"colorbar\": {\"outlinewidth\": 0, \"ticks\": \"\"}}, \"type\": \"scattermapbox\"}], \"scatterpolar\": [{\"marker\": {\"colorbar\": {\"outlinewidth\": 0, \"ticks\": \"\"}}, \"type\": \"scatterpolar\"}], \"scatterpolargl\": [{\"marker\": {\"colorbar\": {\"outlinewidth\": 0, \"ticks\": \"\"}}, \"type\": \"scatterpolargl\"}], \"scatterternary\": [{\"marker\": {\"colorbar\": {\"outlinewidth\": 0, \"ticks\": \"\"}}, \"type\": \"scatterternary\"}], \"surface\": [{\"colorbar\": {\"outlinewidth\": 0, \"ticks\": \"\"}, \"colorscale\": [[0.0, \"#0d0887\"], [0.1111111111111111, \"#46039f\"], [0.2222222222222222, \"#7201a8\"], [0.3333333333333333, \"#9c179e\"], [0.4444444444444444, \"#bd3786\"], [0.5555555555555556, \"#d8576b\"], [0.6666666666666666, \"#ed7953\"], [0.7777777777777778, \"#fb9f3a\"], [0.8888888888888888, \"#fdca26\"], [1.0, \"#f0f921\"]], \"type\": \"surface\"}], \"table\": [{\"cells\": {\"fill\": {\"color\": \"#EBF0F8\"}, \"line\": {\"color\": \"white\"}}, \"header\": {\"fill\": {\"color\": \"#C8D4E3\"}, \"line\": {\"color\": \"white\"}}, \"type\": \"table\"}]}, \"layout\": {\"annotationdefaults\": {\"arrowcolor\": \"#2a3f5f\", \"arrowhead\": 0, \"arrowwidth\": 1}, \"coloraxis\": {\"colorbar\": {\"outlinewidth\": 0, \"ticks\": \"\"}}, \"colorscale\": {\"diverging\": [[0, \"#8e0152\"], [0.1, \"#c51b7d\"], [0.2, \"#de77ae\"], [0.3, \"#f1b6da\"], [0.4, \"#fde0ef\"], [0.5, \"#f7f7f7\"], [0.6, \"#e6f5d0\"], [0.7, \"#b8e186\"], [0.8, \"#7fbc41\"], [0.9, \"#4d9221\"], [1, \"#276419\"]], \"sequential\": [[0.0, \"#0d0887\"], [0.1111111111111111, \"#46039f\"], [0.2222222222222222, \"#7201a8\"], [0.3333333333333333, \"#9c179e\"], [0.4444444444444444, \"#bd3786\"], [0.5555555555555556, \"#d8576b\"], [0.6666666666666666, \"#ed7953\"], [0.7777777777777778, \"#fb9f3a\"], [0.8888888888888888, \"#fdca26\"], [1.0, \"#f0f921\"]], \"sequentialminus\": [[0.0, \"#0d0887\"], [0.1111111111111111, \"#46039f\"], [0.2222222222222222, \"#7201a8\"], [0.3333333333333333, \"#9c179e\"], [0.4444444444444444, \"#bd3786\"], [0.5555555555555556, \"#d8576b\"], [0.6666666666666666, \"#ed7953\"], [0.7777777777777778, \"#fb9f3a\"], [0.8888888888888888, \"#fdca26\"], [1.0, \"#f0f921\"]]}, \"colorway\": [\"#636efa\", \"#EF553B\", \"#00cc96\", \"#ab63fa\", \"#FFA15A\", \"#19d3f3\", \"#FF6692\", \"#B6E880\", \"#FF97FF\", \"#FECB52\"], \"font\": {\"color\": \"#2a3f5f\"}, \"geo\": {\"bgcolor\": \"white\", \"lakecolor\": \"white\", \"landcolor\": \"white\", \"showlakes\": true, \"showland\": true, \"subunitcolor\": \"#C8D4E3\"}, \"hoverlabel\": {\"align\": \"left\"}, \"hovermode\": \"closest\", \"mapbox\": {\"style\": \"light\"}, \"paper_bgcolor\": \"white\", \"plot_bgcolor\": \"white\", \"polar\": {\"angularaxis\": {\"gridcolor\": \"#EBF0F8\", \"linecolor\": \"#EBF0F8\", \"ticks\": \"\"}, \"bgcolor\": \"white\", \"radialaxis\": {\"gridcolor\": \"#EBF0F8\", \"linecolor\": \"#EBF0F8\", \"ticks\": \"\"}}, \"scene\": {\"xaxis\": {\"backgroundcolor\": \"white\", \"gridcolor\": \"#DFE8F3\", \"gridwidth\": 2, \"linecolor\": \"#EBF0F8\", \"showbackground\": true, \"ticks\": \"\", \"zerolinecolor\": \"#EBF0F8\"}, \"yaxis\": {\"backgroundcolor\": \"white\", \"gridcolor\": \"#DFE8F3\", \"gridwidth\": 2, \"linecolor\": \"#EBF0F8\", \"showbackground\": true, \"ticks\": \"\", \"zerolinecolor\": \"#EBF0F8\"}, \"zaxis\": {\"backgroundcolor\": \"white\", \"gridcolor\": \"#DFE8F3\", \"gridwidth\": 2, \"linecolor\": \"#EBF0F8\", \"showbackground\": true, \"ticks\": \"\", \"zerolinecolor\": \"#EBF0F8\"}}, \"shapedefaults\": {\"line\": {\"color\": \"#2a3f5f\"}}, \"ternary\": {\"aaxis\": {\"gridcolor\": \"#DFE8F3\", \"linecolor\": \"#A2B1C6\", \"ticks\": \"\"}, \"baxis\": {\"gridcolor\": \"#DFE8F3\", \"linecolor\": \"#A2B1C6\", \"ticks\": \"\"}, \"bgcolor\": \"white\", \"caxis\": {\"gridcolor\": \"#DFE8F3\", \"linecolor\": \"#A2B1C6\", \"ticks\": \"\"}}, \"title\": {\"x\": 0.05}, \"xaxis\": {\"automargin\": true, \"gridcolor\": \"#EBF0F8\", \"linecolor\": \"#EBF0F8\", \"ticks\": \"\", \"title\": {\"standoff\": 15}, \"zerolinecolor\": \"#EBF0F8\", \"zerolinewidth\": 2}, \"yaxis\": {\"automargin\": true, \"gridcolor\": \"#EBF0F8\", \"linecolor\": \"#EBF0F8\", \"ticks\": \"\", \"title\": {\"standoff\": 15}, \"zerolinecolor\": \"#EBF0F8\", \"zerolinewidth\": 2}}}, \"title\": {\"text\": \"calculando o WCSS\"}, \"xaxis\": {\"anchor\": \"y\", \"domain\": [0.0, 1.0], \"title\": {\"text\": \"N\\u00famero de clusters\"}}, \"yaxis\": {\"anchor\": \"x\", \"domain\": [0.0, 1.0], \"title\": {\"text\": \"Valor do WCSS\"}}},\n",
              "                        {\"responsive\": true}\n",
              "                    ).then(function(){\n",
              "                            \n",
              "var gd = document.getElementById('4fd0412d-e2b6-4323-bd23-1ff0d869608a');\n",
              "var x = new MutationObserver(function (mutations, observer) {{\n",
              "        var display = window.getComputedStyle(gd).display;\n",
              "        if (!display || display === 'none') {{\n",
              "            console.log([gd, 'removed!']);\n",
              "            Plotly.purge(gd);\n",
              "            observer.disconnect();\n",
              "        }}\n",
              "}});\n",
              "\n",
              "// Listen for the removal of the full notebook cells\n",
              "var notebookContainer = gd.closest('#notebook-container');\n",
              "if (notebookContainer) {{\n",
              "    x.observe(notebookContainer, {childList: true});\n",
              "}}\n",
              "\n",
              "// Listen for the clearing of the current output cell\n",
              "var outputEl = gd.closest('.output');\n",
              "if (outputEl) {{\n",
              "    x.observe(outputEl, {childList: true});\n",
              "}}\n",
              "\n",
              "                        })\n",
              "                };\n",
              "                \n",
              "            </script>\n",
              "        </div>\n",
              "</body>\n",
              "</html>"
            ]
          },
          "metadata": {}
        }
      ]
    },
    {
      "cell_type": "code",
      "metadata": {
        "id": "2e-sBxIiHJ_u"
      },
      "source": [
        "kmeans_produtos=KMeans(n_clusters=3,random_state=0)\n",
        "c_produtos['clusters']=kmeans_produtos.fit_predict(dados_normalizados)"
      ],
      "execution_count": 52,
      "outputs": []
    },
    {
      "cell_type": "code",
      "metadata": {
        "colab": {
          "base_uri": "https://localhost:8080/",
          "height": 450
        },
        "id": "MqNn4W32HYlw",
        "outputId": "9919ec6c-2191-4d37-a179-db2a6af733bb"
      },
      "source": [
        "c_produtos"
      ],
      "execution_count": 53,
      "outputs": [
        {
          "output_type": "execute_result",
          "data": {
            "text/html": [
              "<div>\n",
              "<style scoped>\n",
              "    .dataframe tbody tr th:only-of-type {\n",
              "        vertical-align: middle;\n",
              "    }\n",
              "\n",
              "    .dataframe tbody tr th {\n",
              "        vertical-align: top;\n",
              "    }\n",
              "\n",
              "    .dataframe thead th {\n",
              "        text-align: right;\n",
              "    }\n",
              "</style>\n",
              "<table border=\"1\" class=\"dataframe\">\n",
              "  <thead>\n",
              "    <tr style=\"text-align: right;\">\n",
              "      <th></th>\n",
              "      <th>Preco_Medio</th>\n",
              "      <th>Quantidade</th>\n",
              "      <th>clusters</th>\n",
              "    </tr>\n",
              "    <tr>\n",
              "      <th>ProdutoID</th>\n",
              "      <th></th>\n",
              "      <th></th>\n",
              "      <th></th>\n",
              "    </tr>\n",
              "  </thead>\n",
              "  <tbody>\n",
              "    <tr>\n",
              "      <th>1</th>\n",
              "      <td>21.998080</td>\n",
              "      <td>828</td>\n",
              "      <td>0</td>\n",
              "    </tr>\n",
              "    <tr>\n",
              "      <th>2</th>\n",
              "      <td>21.247994</td>\n",
              "      <td>1067</td>\n",
              "      <td>0</td>\n",
              "    </tr>\n",
              "    <tr>\n",
              "      <th>3</th>\n",
              "      <td>20.144253</td>\n",
              "      <td>388</td>\n",
              "      <td>1</td>\n",
              "    </tr>\n",
              "    <tr>\n",
              "      <th>4</th>\n",
              "      <td>24.141736</td>\n",
              "      <td>455</td>\n",
              "      <td>1</td>\n",
              "    </tr>\n",
              "    <tr>\n",
              "      <th>5</th>\n",
              "      <td>6.519497</td>\n",
              "      <td>298</td>\n",
              "      <td>1</td>\n",
              "    </tr>\n",
              "    <tr>\n",
              "      <th>...</th>\n",
              "      <td>...</td>\n",
              "      <td>...</td>\n",
              "      <td>...</td>\n",
              "    </tr>\n",
              "    <tr>\n",
              "      <th>73</th>\n",
              "      <td>1.178378</td>\n",
              "      <td>296</td>\n",
              "      <td>1</td>\n",
              "    </tr>\n",
              "    <tr>\n",
              "      <th>74</th>\n",
              "      <td>31.323502</td>\n",
              "      <td>297</td>\n",
              "      <td>1</td>\n",
              "    </tr>\n",
              "    <tr>\n",
              "      <th>75</th>\n",
              "      <td>8.135833</td>\n",
              "      <td>1315</td>\n",
              "      <td>0</td>\n",
              "    </tr>\n",
              "    <tr>\n",
              "      <th>76</th>\n",
              "      <td>416.589715</td>\n",
              "      <td>981</td>\n",
              "      <td>2</td>\n",
              "    </tr>\n",
              "    <tr>\n",
              "      <th>77</th>\n",
              "      <td>13.778874</td>\n",
              "      <td>799</td>\n",
              "      <td>0</td>\n",
              "    </tr>\n",
              "  </tbody>\n",
              "</table>\n",
              "<p>77 rows × 3 columns</p>\n",
              "</div>"
            ],
            "text/plain": [
              "           Preco_Medio  Quantidade  clusters\n",
              "ProdutoID                                   \n",
              "1            21.998080         828         0\n",
              "2            21.247994        1067         0\n",
              "3            20.144253         388         1\n",
              "4            24.141736         455         1\n",
              "5             6.519497         298         1\n",
              "...                ...         ...       ...\n",
              "73            1.178378         296         1\n",
              "74           31.323502         297         1\n",
              "75            8.135833        1315         0\n",
              "76          416.589715         981         2\n",
              "77           13.778874         799         0\n",
              "\n",
              "[77 rows x 3 columns]"
            ]
          },
          "metadata": {},
          "execution_count": 53
        }
      ]
    },
    {
      "cell_type": "code",
      "metadata": {
        "colab": {
          "base_uri": "https://localhost:8080/"
        },
        "id": "wopDSjKYHnyH",
        "outputId": "521a9283-429a-46b1-f832-19200143243a"
      },
      "source": [
        "centroides_clusters=kmeans_produtos.cluster_centers_\n",
        "centroides_clusters"
      ],
      "execution_count": 54,
      "outputs": [
        {
          "output_type": "execute_result",
          "data": {
            "text/plain": [
              "array([[-0.11271086,  0.78990574],\n",
              "       [-0.08607681, -0.81427411],\n",
              "       [ 7.55393135,  0.92599811]])"
            ]
          },
          "metadata": {},
          "execution_count": 54
        }
      ]
    },
    {
      "cell_type": "code",
      "metadata": {
        "colab": {
          "base_uri": "https://localhost:8080/",
          "height": 542
        },
        "id": "CCszlgAwJV5E",
        "outputId": "a3b6d815-220b-4fbb-8072-5459e89d8bc0"
      },
      "source": [
        "grafico = px.scatter (x=dados_normalizados[:,0],\n",
        "                        y=dados_normalizados[:,1],\n",
        "                        color=c_produtos['clusters'])\n",
        " \n",
        "grafico_centroide = px.scatter(x=centroides_clusters[:,0],y=centroides_clusters[:,1],size=[7,7,7])\n",
        "grafico_final = go.Figure(data=grafico.data+grafico_centroide.data)\n",
        "grafico_final.update_layout(title='Clusterização',\n",
        "                  xaxis_title='Preco_Medio',\n",
        "                  yaxis_title='Quantidade')\n",
        " \n",
        " \n",
        "grafico_final.show()\n"
      ],
      "execution_count": 62,
      "outputs": [
        {
          "output_type": "display_data",
          "data": {
            "text/html": [
              "<html>\n",
              "<head><meta charset=\"utf-8\" /></head>\n",
              "<body>\n",
              "    <div>\n",
              "            <script src=\"https://cdnjs.cloudflare.com/ajax/libs/mathjax/2.7.5/MathJax.js?config=TeX-AMS-MML_SVG\"></script><script type=\"text/javascript\">if (window.MathJax) {MathJax.Hub.Config({SVG: {font: \"STIX-Web\"}});}</script>\n",
              "                <script type=\"text/javascript\">window.PlotlyConfig = {MathJaxConfig: 'local'};</script>\n",
              "        <script src=\"https://cdn.plot.ly/plotly-latest.min.js\"></script>    \n",
              "            <div id=\"24325a72-9277-4311-ac67-823271eb3378\" class=\"plotly-graph-div\" style=\"height:525px; width:100%;\"></div>\n",
              "            <script type=\"text/javascript\">\n",
              "                \n",
              "                    window.PLOTLYENV=window.PLOTLYENV || {};\n",
              "                    \n",
              "                if (document.getElementById(\"24325a72-9277-4311-ac67-823271eb3378\")) {\n",
              "                    Plotly.newPlot(\n",
              "                        '24325a72-9277-4311-ac67-823271eb3378',\n",
              "                        [{\"hoverlabel\": {\"namelength\": 0}, \"hovertemplate\": \"x=%{x}<br>y=%{y}<br>color=%{marker.color}\", \"legendgroup\": \"\", \"marker\": {\"color\": [0, 0, 1, 1, 1, 1, 0, 1, 1, 0, 0, 1, 0, 1, 1, 0, 0, 1, 0, 1, 0, 1, 1, 0, 1, 0, 1, 1, 0, 1, 0, 1, 0, 1, 0, 0, 1, 1, 0, 0, 0, 0, 1, 1, 1, 1, 1, 1, 1, 1, 0, 1, 0, 0, 0, 0, 1, 1, 0, 0, 1, 0, 1, 0, 0, 1, 1, 0, 0, 0, 0, 0, 1, 1, 0, 2, 0], \"coloraxis\": \"coloraxis\", \"symbol\": \"circle\"}, \"mode\": \"markers\", \"name\": \"\", \"showlegend\": false, \"type\": \"scatter\", \"x\": [-0.2159506238716695, -0.23072051252379808, -0.25245423101255726, -0.17374000169891698, -0.5207385435911546, -0.5696415007191502, 0.1505338911918727, -0.22636318960315, 0.27263330456424373, -0.5081264275771705, -0.06157959550178621, -0.44587003832439126, -0.13109585929231599, -0.1573523699685494, -0.5228946359343006, -0.4478749719090049, -0.12054682924359876, -0.09033500045580531, -0.45764979443221093, 1.0542572824955996, -0.4415246249711985, -0.5800607566952249, -0.4622611621091211, -0.5563122634916944, -0.3526298874244441, 0.01838092422370606, 0.18457186728634853, 0.27862587431035835, 2.0619546501179102, -0.09024468910788157, -0.4690527998672671, -0.23139208179174706, -0.12365216410511011, -0.48686332073570565, -0.5236613116660004, -0.48196927046462873, -0.5622138718814963, 1.0515841184513253, 0.5870340007952342, -0.2586778654058036, -0.44812057089720275, -0.3510586984909811, -0.396172204761715, 0.9078959140657933, -0.44730931757103615, -0.39696766329719024, -0.09010254502036574, 0.056181795989135065, -0.2553208288717341, -0.3287092448105244, 1.4208837690525844, 0.9939887105075211, 0.6204344186650103, 0.10668327978436702, 0.19534669089142465, 0.16263304556005218, -0.2645463745491904, 0.41774141294823103, -0.4711077152098851, -0.5423254808217207, -0.06298242184975097, -0.045816171155651814, -0.22731276216962387, 0.05479766550785481, -0.44404099331656083, -0.26621837201799403, 0.6305324012382894, -0.38445374179938907, -0.6055772978867039, -0.0473908638910655, -0.014728736590814544, -0.41197378670745644, -0.625910206806001, -0.032324257577412946, -0.48891136007092306, 7.553931349053377, -0.3777945551824842], \"xaxis\": \"x\", \"y\": [0.4613821061655364, 1.1871548132143752, -0.8747684842172633, -0.6713091897726097, -1.1480720140682905, -0.9901633079321415, 0.306510105916621, -0.9142456607513005, -1.7493397797405503, 0.2427392822847146, 0.09090398792303284, -0.9840898961576742, 0.7012818712569936, -0.3737120128237134, -1.6825322502214104, 1.5333392843590097, 0.9168879892505817, -0.4162258952449843, 0.14252798800600464, -1.060007543338515, 1.0778334012739643, -0.9506861313981042, -0.25528048322160163, 1.515119049035608, -1.0873378963236178, 0.23362916462301372, -0.9446127196236369, -0.1095186006343871, 0.21237222341237827, -0.1945463654769289, 2.1892677560014753, -1.1237783669704213, 0.24881269405918188, -0.5164371895236943, 0.6284009299633864, 0.39153787075916274, -1.652165191349074, -0.16114260071735892, 0.3793910472102282, 1.296476225154786, 0.9411816363484509, 0.09394069381026647, -0.29172095386840524, -0.2279501302364989, -0.510363777749227, -0.3737120128237134, -0.5650244837194325, -1.6339449560256722, -0.47392330710242336, -1.3393844849640095, 0.6466211652867881, -0.5164371895236943, 0.13949128211877102, 0.239702576397481, 0.69824516536976, 1.7823491671121678, -0.6895294250960116, -0.4314094246811525, 2.489901638837605, 2.754095051026931, -0.22187671846203164, 1.2509256368462816, -0.701676248644946, 0.23362916462301372, 0.20933551752514462, -1.3059807202044396, -1.494256485212925, 0.37331763543576096, 0.11519763502090193, 0.4279783414059664, 1.1567877543420388, 0.3945745766463964, -1.1541454258427577, -1.151108719955524, 1.9402578732483169, 0.9259981069122827, 0.37331763543576096], \"yaxis\": \"y\"}, {\"hoverlabel\": {\"namelength\": 0}, \"hovertemplate\": \"x=%{x}<br>y=%{y}<br>size=%{marker.size}\", \"legendgroup\": \"\", \"marker\": {\"color\": \"#636efa\", \"size\": [7, 7, 7], \"sizemode\": \"area\", \"sizeref\": 0.0175, \"symbol\": \"circle\"}, \"mode\": \"markers\", \"name\": \"\", \"showlegend\": false, \"type\": \"scatter\", \"x\": [-0.11271085659352842, -0.08607681048682338, 7.553931349053377], \"xaxis\": \"x\", \"y\": [0.7899057351765225, -0.8142741064110565, 0.9259981069122827], \"yaxis\": \"y\"}],\n",
              "                        {\"template\": {\"data\": {\"bar\": [{\"error_x\": {\"color\": \"#2a3f5f\"}, \"error_y\": {\"color\": \"#2a3f5f\"}, \"marker\": {\"line\": {\"color\": \"#E5ECF6\", \"width\": 0.5}}, \"type\": \"bar\"}], \"barpolar\": [{\"marker\": {\"line\": {\"color\": \"#E5ECF6\", \"width\": 0.5}}, \"type\": \"barpolar\"}], \"carpet\": [{\"aaxis\": {\"endlinecolor\": \"#2a3f5f\", \"gridcolor\": \"white\", \"linecolor\": \"white\", \"minorgridcolor\": \"white\", \"startlinecolor\": \"#2a3f5f\"}, \"baxis\": {\"endlinecolor\": \"#2a3f5f\", \"gridcolor\": \"white\", \"linecolor\": \"white\", \"minorgridcolor\": \"white\", \"startlinecolor\": \"#2a3f5f\"}, \"type\": \"carpet\"}], \"choropleth\": [{\"colorbar\": {\"outlinewidth\": 0, \"ticks\": \"\"}, \"type\": \"choropleth\"}], \"contour\": [{\"colorbar\": {\"outlinewidth\": 0, \"ticks\": \"\"}, \"colorscale\": [[0.0, \"#0d0887\"], [0.1111111111111111, \"#46039f\"], [0.2222222222222222, \"#7201a8\"], [0.3333333333333333, \"#9c179e\"], [0.4444444444444444, \"#bd3786\"], [0.5555555555555556, \"#d8576b\"], [0.6666666666666666, \"#ed7953\"], [0.7777777777777778, \"#fb9f3a\"], [0.8888888888888888, \"#fdca26\"], [1.0, \"#f0f921\"]], \"type\": \"contour\"}], \"contourcarpet\": [{\"colorbar\": {\"outlinewidth\": 0, \"ticks\": \"\"}, \"type\": \"contourcarpet\"}], \"heatmap\": [{\"colorbar\": {\"outlinewidth\": 0, \"ticks\": \"\"}, \"colorscale\": [[0.0, \"#0d0887\"], [0.1111111111111111, \"#46039f\"], [0.2222222222222222, \"#7201a8\"], [0.3333333333333333, \"#9c179e\"], [0.4444444444444444, \"#bd3786\"], [0.5555555555555556, \"#d8576b\"], [0.6666666666666666, \"#ed7953\"], [0.7777777777777778, \"#fb9f3a\"], [0.8888888888888888, \"#fdca26\"], [1.0, \"#f0f921\"]], \"type\": \"heatmap\"}], \"heatmapgl\": [{\"colorbar\": {\"outlinewidth\": 0, \"ticks\": \"\"}, \"colorscale\": [[0.0, \"#0d0887\"], [0.1111111111111111, \"#46039f\"], [0.2222222222222222, \"#7201a8\"], [0.3333333333333333, \"#9c179e\"], [0.4444444444444444, \"#bd3786\"], [0.5555555555555556, \"#d8576b\"], [0.6666666666666666, \"#ed7953\"], [0.7777777777777778, \"#fb9f3a\"], [0.8888888888888888, \"#fdca26\"], [1.0, \"#f0f921\"]], \"type\": \"heatmapgl\"}], \"histogram\": [{\"marker\": {\"colorbar\": {\"outlinewidth\": 0, \"ticks\": \"\"}}, \"type\": \"histogram\"}], \"histogram2d\": [{\"colorbar\": {\"outlinewidth\": 0, \"ticks\": \"\"}, \"colorscale\": [[0.0, \"#0d0887\"], [0.1111111111111111, \"#46039f\"], [0.2222222222222222, \"#7201a8\"], [0.3333333333333333, \"#9c179e\"], [0.4444444444444444, \"#bd3786\"], [0.5555555555555556, \"#d8576b\"], [0.6666666666666666, \"#ed7953\"], [0.7777777777777778, \"#fb9f3a\"], [0.8888888888888888, \"#fdca26\"], [1.0, \"#f0f921\"]], \"type\": \"histogram2d\"}], \"histogram2dcontour\": [{\"colorbar\": {\"outlinewidth\": 0, \"ticks\": \"\"}, \"colorscale\": [[0.0, \"#0d0887\"], [0.1111111111111111, \"#46039f\"], [0.2222222222222222, \"#7201a8\"], [0.3333333333333333, \"#9c179e\"], [0.4444444444444444, \"#bd3786\"], [0.5555555555555556, \"#d8576b\"], [0.6666666666666666, \"#ed7953\"], [0.7777777777777778, \"#fb9f3a\"], [0.8888888888888888, \"#fdca26\"], [1.0, \"#f0f921\"]], \"type\": \"histogram2dcontour\"}], \"mesh3d\": [{\"colorbar\": {\"outlinewidth\": 0, \"ticks\": \"\"}, \"type\": \"mesh3d\"}], \"parcoords\": [{\"line\": {\"colorbar\": {\"outlinewidth\": 0, \"ticks\": \"\"}}, \"type\": \"parcoords\"}], \"pie\": [{\"automargin\": true, \"type\": \"pie\"}], \"scatter\": [{\"marker\": {\"colorbar\": {\"outlinewidth\": 0, \"ticks\": \"\"}}, \"type\": \"scatter\"}], \"scatter3d\": [{\"line\": {\"colorbar\": {\"outlinewidth\": 0, \"ticks\": \"\"}}, \"marker\": {\"colorbar\": {\"outlinewidth\": 0, \"ticks\": \"\"}}, \"type\": \"scatter3d\"}], \"scattercarpet\": [{\"marker\": {\"colorbar\": {\"outlinewidth\": 0, \"ticks\": \"\"}}, \"type\": \"scattercarpet\"}], \"scattergeo\": [{\"marker\": {\"colorbar\": {\"outlinewidth\": 0, \"ticks\": \"\"}}, \"type\": \"scattergeo\"}], \"scattergl\": [{\"marker\": {\"colorbar\": {\"outlinewidth\": 0, \"ticks\": \"\"}}, \"type\": \"scattergl\"}], \"scattermapbox\": [{\"marker\": {\"colorbar\": {\"outlinewidth\": 0, \"ticks\": \"\"}}, \"type\": \"scattermapbox\"}], \"scatterpolar\": [{\"marker\": {\"colorbar\": {\"outlinewidth\": 0, \"ticks\": \"\"}}, \"type\": \"scatterpolar\"}], \"scatterpolargl\": [{\"marker\": {\"colorbar\": {\"outlinewidth\": 0, \"ticks\": \"\"}}, \"type\": \"scatterpolargl\"}], \"scatterternary\": [{\"marker\": {\"colorbar\": {\"outlinewidth\": 0, \"ticks\": \"\"}}, \"type\": \"scatterternary\"}], \"surface\": [{\"colorbar\": {\"outlinewidth\": 0, \"ticks\": \"\"}, \"colorscale\": [[0.0, \"#0d0887\"], [0.1111111111111111, \"#46039f\"], [0.2222222222222222, \"#7201a8\"], [0.3333333333333333, \"#9c179e\"], [0.4444444444444444, \"#bd3786\"], [0.5555555555555556, \"#d8576b\"], [0.6666666666666666, \"#ed7953\"], [0.7777777777777778, \"#fb9f3a\"], [0.8888888888888888, \"#fdca26\"], [1.0, \"#f0f921\"]], \"type\": \"surface\"}], \"table\": [{\"cells\": {\"fill\": {\"color\": \"#EBF0F8\"}, \"line\": {\"color\": \"white\"}}, \"header\": {\"fill\": {\"color\": \"#C8D4E3\"}, \"line\": {\"color\": \"white\"}}, \"type\": \"table\"}]}, \"layout\": {\"annotationdefaults\": {\"arrowcolor\": \"#2a3f5f\", \"arrowhead\": 0, \"arrowwidth\": 1}, \"coloraxis\": {\"colorbar\": {\"outlinewidth\": 0, \"ticks\": \"\"}}, \"colorscale\": {\"diverging\": [[0, \"#8e0152\"], [0.1, \"#c51b7d\"], [0.2, \"#de77ae\"], [0.3, \"#f1b6da\"], [0.4, \"#fde0ef\"], [0.5, \"#f7f7f7\"], [0.6, \"#e6f5d0\"], [0.7, \"#b8e186\"], [0.8, \"#7fbc41\"], [0.9, \"#4d9221\"], [1, \"#276419\"]], \"sequential\": [[0.0, \"#0d0887\"], [0.1111111111111111, \"#46039f\"], [0.2222222222222222, \"#7201a8\"], [0.3333333333333333, \"#9c179e\"], [0.4444444444444444, \"#bd3786\"], [0.5555555555555556, \"#d8576b\"], [0.6666666666666666, \"#ed7953\"], [0.7777777777777778, \"#fb9f3a\"], [0.8888888888888888, \"#fdca26\"], [1.0, \"#f0f921\"]], \"sequentialminus\": [[0.0, \"#0d0887\"], [0.1111111111111111, \"#46039f\"], [0.2222222222222222, \"#7201a8\"], [0.3333333333333333, \"#9c179e\"], [0.4444444444444444, \"#bd3786\"], [0.5555555555555556, \"#d8576b\"], [0.6666666666666666, \"#ed7953\"], [0.7777777777777778, \"#fb9f3a\"], [0.8888888888888888, \"#fdca26\"], [1.0, \"#f0f921\"]]}, \"colorway\": [\"#636efa\", \"#EF553B\", \"#00cc96\", \"#ab63fa\", \"#FFA15A\", \"#19d3f3\", \"#FF6692\", \"#B6E880\", \"#FF97FF\", \"#FECB52\"], \"font\": {\"color\": \"#2a3f5f\"}, \"geo\": {\"bgcolor\": \"white\", \"lakecolor\": \"white\", \"landcolor\": \"#E5ECF6\", \"showlakes\": true, \"showland\": true, \"subunitcolor\": \"white\"}, \"hoverlabel\": {\"align\": \"left\"}, \"hovermode\": \"closest\", \"mapbox\": {\"style\": \"light\"}, \"paper_bgcolor\": \"white\", \"plot_bgcolor\": \"#E5ECF6\", \"polar\": {\"angularaxis\": {\"gridcolor\": \"white\", \"linecolor\": \"white\", \"ticks\": \"\"}, \"bgcolor\": \"#E5ECF6\", \"radialaxis\": {\"gridcolor\": \"white\", \"linecolor\": \"white\", \"ticks\": \"\"}}, \"scene\": {\"xaxis\": {\"backgroundcolor\": \"#E5ECF6\", \"gridcolor\": \"white\", \"gridwidth\": 2, \"linecolor\": \"white\", \"showbackground\": true, \"ticks\": \"\", \"zerolinecolor\": \"white\"}, \"yaxis\": {\"backgroundcolor\": \"#E5ECF6\", \"gridcolor\": \"white\", \"gridwidth\": 2, \"linecolor\": \"white\", \"showbackground\": true, \"ticks\": \"\", \"zerolinecolor\": \"white\"}, \"zaxis\": {\"backgroundcolor\": \"#E5ECF6\", \"gridcolor\": \"white\", \"gridwidth\": 2, \"linecolor\": \"white\", \"showbackground\": true, \"ticks\": \"\", \"zerolinecolor\": \"white\"}}, \"shapedefaults\": {\"line\": {\"color\": \"#2a3f5f\"}}, \"ternary\": {\"aaxis\": {\"gridcolor\": \"white\", \"linecolor\": \"white\", \"ticks\": \"\"}, \"baxis\": {\"gridcolor\": \"white\", \"linecolor\": \"white\", \"ticks\": \"\"}, \"bgcolor\": \"#E5ECF6\", \"caxis\": {\"gridcolor\": \"white\", \"linecolor\": \"white\", \"ticks\": \"\"}}, \"title\": {\"x\": 0.05}, \"xaxis\": {\"automargin\": true, \"gridcolor\": \"white\", \"linecolor\": \"white\", \"ticks\": \"\", \"title\": {\"standoff\": 15}, \"zerolinecolor\": \"white\", \"zerolinewidth\": 2}, \"yaxis\": {\"automargin\": true, \"gridcolor\": \"white\", \"linecolor\": \"white\", \"ticks\": \"\", \"title\": {\"standoff\": 15}, \"zerolinecolor\": \"white\", \"zerolinewidth\": 2}}}, \"title\": {\"text\": \"Clusteriza\\u00e7\\u00e3o\"}, \"xaxis\": {\"title\": {\"text\": \"Preco_Medio\"}}, \"yaxis\": {\"title\": {\"text\": \"Quantidade\"}}},\n",
              "                        {\"responsive\": true}\n",
              "                    ).then(function(){\n",
              "                            \n",
              "var gd = document.getElementById('24325a72-9277-4311-ac67-823271eb3378');\n",
              "var x = new MutationObserver(function (mutations, observer) {{\n",
              "        var display = window.getComputedStyle(gd).display;\n",
              "        if (!display || display === 'none') {{\n",
              "            console.log([gd, 'removed!']);\n",
              "            Plotly.purge(gd);\n",
              "            observer.disconnect();\n",
              "        }}\n",
              "}});\n",
              "\n",
              "// Listen for the removal of the full notebook cells\n",
              "var notebookContainer = gd.closest('#notebook-container');\n",
              "if (notebookContainer) {{\n",
              "    x.observe(notebookContainer, {childList: true});\n",
              "}}\n",
              "\n",
              "// Listen for the clearing of the current output cell\n",
              "var outputEl = gd.closest('.output');\n",
              "if (outputEl) {{\n",
              "    x.observe(outputEl, {childList: true});\n",
              "}}\n",
              "\n",
              "                        })\n",
              "                };\n",
              "                \n",
              "            </script>\n",
              "        </div>\n",
              "</body>\n",
              "</html>"
            ]
          },
          "metadata": {}
        }
      ]
    },
    {
      "cell_type": "code",
      "metadata": {
        "id": "VgmehypPhjik"
      },
      "source": [
        "c_produtos['Grupo de Produto'] = c_produtos['clusters'].map({0:\"alto volume e baixo preço\",1:\"baixo volume e baixo preço\",2:\"alto volume e alto preço\"})\n"
      ],
      "execution_count": 63,
      "outputs": []
    },
    {
      "cell_type": "code",
      "metadata": {
        "colab": {
          "base_uri": "https://localhost:8080/",
          "height": 450
        },
        "id": "an2OWSSaiRlQ",
        "outputId": "101c3367-f886-4be4-e492-1b24c8eb02cd"
      },
      "source": [
        "c_produtos"
      ],
      "execution_count": 64,
      "outputs": [
        {
          "output_type": "execute_result",
          "data": {
            "text/html": [
              "<div>\n",
              "<style scoped>\n",
              "    .dataframe tbody tr th:only-of-type {\n",
              "        vertical-align: middle;\n",
              "    }\n",
              "\n",
              "    .dataframe tbody tr th {\n",
              "        vertical-align: top;\n",
              "    }\n",
              "\n",
              "    .dataframe thead th {\n",
              "        text-align: right;\n",
              "    }\n",
              "</style>\n",
              "<table border=\"1\" class=\"dataframe\">\n",
              "  <thead>\n",
              "    <tr style=\"text-align: right;\">\n",
              "      <th></th>\n",
              "      <th>Preco_Medio</th>\n",
              "      <th>Quantidade</th>\n",
              "      <th>clusters</th>\n",
              "      <th>Grupo de Produto</th>\n",
              "    </tr>\n",
              "    <tr>\n",
              "      <th>ProdutoID</th>\n",
              "      <th></th>\n",
              "      <th></th>\n",
              "      <th></th>\n",
              "      <th></th>\n",
              "    </tr>\n",
              "  </thead>\n",
              "  <tbody>\n",
              "    <tr>\n",
              "      <th>1</th>\n",
              "      <td>21.998080</td>\n",
              "      <td>828</td>\n",
              "      <td>0</td>\n",
              "      <td>alto volume e baixo preço</td>\n",
              "    </tr>\n",
              "    <tr>\n",
              "      <th>2</th>\n",
              "      <td>21.247994</td>\n",
              "      <td>1067</td>\n",
              "      <td>0</td>\n",
              "      <td>alto volume e baixo preço</td>\n",
              "    </tr>\n",
              "    <tr>\n",
              "      <th>3</th>\n",
              "      <td>20.144253</td>\n",
              "      <td>388</td>\n",
              "      <td>1</td>\n",
              "      <td>baixo volume e baixo preço</td>\n",
              "    </tr>\n",
              "    <tr>\n",
              "      <th>4</th>\n",
              "      <td>24.141736</td>\n",
              "      <td>455</td>\n",
              "      <td>1</td>\n",
              "      <td>baixo volume e baixo preço</td>\n",
              "    </tr>\n",
              "    <tr>\n",
              "      <th>5</th>\n",
              "      <td>6.519497</td>\n",
              "      <td>298</td>\n",
              "      <td>1</td>\n",
              "      <td>baixo volume e baixo preço</td>\n",
              "    </tr>\n",
              "    <tr>\n",
              "      <th>...</th>\n",
              "      <td>...</td>\n",
              "      <td>...</td>\n",
              "      <td>...</td>\n",
              "      <td>...</td>\n",
              "    </tr>\n",
              "    <tr>\n",
              "      <th>73</th>\n",
              "      <td>1.178378</td>\n",
              "      <td>296</td>\n",
              "      <td>1</td>\n",
              "      <td>baixo volume e baixo preço</td>\n",
              "    </tr>\n",
              "    <tr>\n",
              "      <th>74</th>\n",
              "      <td>31.323502</td>\n",
              "      <td>297</td>\n",
              "      <td>1</td>\n",
              "      <td>baixo volume e baixo preço</td>\n",
              "    </tr>\n",
              "    <tr>\n",
              "      <th>75</th>\n",
              "      <td>8.135833</td>\n",
              "      <td>1315</td>\n",
              "      <td>0</td>\n",
              "      <td>alto volume e baixo preço</td>\n",
              "    </tr>\n",
              "    <tr>\n",
              "      <th>76</th>\n",
              "      <td>416.589715</td>\n",
              "      <td>981</td>\n",
              "      <td>2</td>\n",
              "      <td>alto volume e alto preço</td>\n",
              "    </tr>\n",
              "    <tr>\n",
              "      <th>77</th>\n",
              "      <td>13.778874</td>\n",
              "      <td>799</td>\n",
              "      <td>0</td>\n",
              "      <td>alto volume e baixo preço</td>\n",
              "    </tr>\n",
              "  </tbody>\n",
              "</table>\n",
              "<p>77 rows × 4 columns</p>\n",
              "</div>"
            ],
            "text/plain": [
              "           Preco_Medio  Quantidade  clusters            Grupo de Produto\n",
              "ProdutoID                                                               \n",
              "1            21.998080         828         0   alto volume e baixo preço\n",
              "2            21.247994        1067         0   alto volume e baixo preço\n",
              "3            20.144253         388         1  baixo volume e baixo preço\n",
              "4            24.141736         455         1  baixo volume e baixo preço\n",
              "5             6.519497         298         1  baixo volume e baixo preço\n",
              "...                ...         ...       ...                         ...\n",
              "73            1.178378         296         1  baixo volume e baixo preço\n",
              "74           31.323502         297         1  baixo volume e baixo preço\n",
              "75            8.135833        1315         0   alto volume e baixo preço\n",
              "76          416.589715         981         2    alto volume e alto preço\n",
              "77           13.778874         799         0   alto volume e baixo preço\n",
              "\n",
              "[77 rows x 4 columns]"
            ]
          },
          "metadata": {},
          "execution_count": 64
        }
      ]
    },
    {
      "cell_type": "code",
      "metadata": {
        "id": "Wz0MjNpxpYH7"
      },
      "source": [
        "union=pd.merge(dm_fvendas,dm_dcupons,on='CupomID')"
      ],
      "execution_count": 101,
      "outputs": []
    },
    {
      "cell_type": "code",
      "metadata": {
        "id": "yW5UTHKzqNvk"
      },
      "source": [
        "union=pd.merge(union,dm_dclientes,on=\"ClienteID\")\n",
        "union=union[['CupomID','ProdutoID','Quantidade','Desconto','Custo','Valor','ValorLiquido','ClienteID','FuncionarioID','Pais','Regiao']]"
      ],
      "execution_count": 102,
      "outputs": []
    },
    {
      "cell_type": "code",
      "metadata": {
        "colab": {
          "base_uri": "https://localhost:8080/",
          "height": 538
        },
        "id": "szAciF52q4fo",
        "outputId": "0d2a74ca-9be0-4c10-8156-029513629b2f"
      },
      "source": [
        "union"
      ],
      "execution_count": 103,
      "outputs": [
        {
          "output_type": "execute_result",
          "data": {
            "text/html": [
              "<div>\n",
              "<style scoped>\n",
              "    .dataframe tbody tr th:only-of-type {\n",
              "        vertical-align: middle;\n",
              "    }\n",
              "\n",
              "    .dataframe tbody tr th {\n",
              "        vertical-align: top;\n",
              "    }\n",
              "\n",
              "    .dataframe thead th {\n",
              "        text-align: right;\n",
              "    }\n",
              "</style>\n",
              "<table border=\"1\" class=\"dataframe\">\n",
              "  <thead>\n",
              "    <tr style=\"text-align: right;\">\n",
              "      <th></th>\n",
              "      <th>CupomID</th>\n",
              "      <th>ProdutoID</th>\n",
              "      <th>Quantidade</th>\n",
              "      <th>Desconto</th>\n",
              "      <th>Custo</th>\n",
              "      <th>Valor</th>\n",
              "      <th>ValorLiquido</th>\n",
              "      <th>ClienteID</th>\n",
              "      <th>FuncionarioID</th>\n",
              "      <th>Pais</th>\n",
              "      <th>Regiao</th>\n",
              "    </tr>\n",
              "  </thead>\n",
              "  <tbody>\n",
              "    <tr>\n",
              "      <th>0</th>\n",
              "      <td>10308</td>\n",
              "      <td>69</td>\n",
              "      <td>1</td>\n",
              "      <td>0.000</td>\n",
              "      <td>1.8317</td>\n",
              "      <td>2.12</td>\n",
              "      <td>0.2883</td>\n",
              "      <td>2</td>\n",
              "      <td>2</td>\n",
              "      <td>Mexico</td>\n",
              "      <td>North America</td>\n",
              "    </tr>\n",
              "    <tr>\n",
              "      <th>1</th>\n",
              "      <td>10308</td>\n",
              "      <td>70</td>\n",
              "      <td>5</td>\n",
              "      <td>0.000</td>\n",
              "      <td>127.6560</td>\n",
              "      <td>147.75</td>\n",
              "      <td>20.0940</td>\n",
              "      <td>2</td>\n",
              "      <td>2</td>\n",
              "      <td>Mexico</td>\n",
              "      <td>North America</td>\n",
              "    </tr>\n",
              "    <tr>\n",
              "      <th>2</th>\n",
              "      <td>10625</td>\n",
              "      <td>60</td>\n",
              "      <td>10</td>\n",
              "      <td>0.000</td>\n",
              "      <td>39.4470</td>\n",
              "      <td>48.70</td>\n",
              "      <td>9.2530</td>\n",
              "      <td>2</td>\n",
              "      <td>3</td>\n",
              "      <td>Mexico</td>\n",
              "      <td>North America</td>\n",
              "    </tr>\n",
              "    <tr>\n",
              "      <th>3</th>\n",
              "      <td>10625</td>\n",
              "      <td>14</td>\n",
              "      <td>3</td>\n",
              "      <td>0.000</td>\n",
              "      <td>58.9275</td>\n",
              "      <td>72.75</td>\n",
              "      <td>13.8225</td>\n",
              "      <td>2</td>\n",
              "      <td>3</td>\n",
              "      <td>Mexico</td>\n",
              "      <td>North America</td>\n",
              "    </tr>\n",
              "    <tr>\n",
              "      <th>4</th>\n",
              "      <td>10625</td>\n",
              "      <td>42</td>\n",
              "      <td>5</td>\n",
              "      <td>0.000</td>\n",
              "      <td>60.4260</td>\n",
              "      <td>74.60</td>\n",
              "      <td>14.1740</td>\n",
              "      <td>2</td>\n",
              "      <td>3</td>\n",
              "      <td>Mexico</td>\n",
              "      <td>North America</td>\n",
              "    </tr>\n",
              "    <tr>\n",
              "      <th>...</th>\n",
              "      <td>...</td>\n",
              "      <td>...</td>\n",
              "      <td>...</td>\n",
              "      <td>...</td>\n",
              "      <td>...</td>\n",
              "      <td>...</td>\n",
              "      <td>...</td>\n",
              "      <td>...</td>\n",
              "      <td>...</td>\n",
              "      <td>...</td>\n",
              "      <td>...</td>\n",
              "    </tr>\n",
              "    <tr>\n",
              "      <th>2167</th>\n",
              "      <td>10359</td>\n",
              "      <td>60</td>\n",
              "      <td>80</td>\n",
              "      <td>21.840</td>\n",
              "      <td>377.3952</td>\n",
              "      <td>458.64</td>\n",
              "      <td>81.2448</td>\n",
              "      <td>72</td>\n",
              "      <td>9</td>\n",
              "      <td>UK</td>\n",
              "      <td>Europe</td>\n",
              "    </tr>\n",
              "    <tr>\n",
              "      <th>2168</th>\n",
              "      <td>10359</td>\n",
              "      <td>16</td>\n",
              "      <td>56</td>\n",
              "      <td>28.672</td>\n",
              "      <td>495.4522</td>\n",
              "      <td>602.11</td>\n",
              "      <td>106.6598</td>\n",
              "      <td>72</td>\n",
              "      <td>9</td>\n",
              "      <td>UK</td>\n",
              "      <td>Europe</td>\n",
              "    </tr>\n",
              "    <tr>\n",
              "      <th>2169</th>\n",
              "      <td>10359</td>\n",
              "      <td>31</td>\n",
              "      <td>70</td>\n",
              "      <td>30.450</td>\n",
              "      <td>526.1760</td>\n",
              "      <td>639.45</td>\n",
              "      <td>113.2740</td>\n",
              "      <td>72</td>\n",
              "      <td>9</td>\n",
              "      <td>UK</td>\n",
              "      <td>Europe</td>\n",
              "    </tr>\n",
              "    <tr>\n",
              "      <th>2170</th>\n",
              "      <td>11081</td>\n",
              "      <td>75</td>\n",
              "      <td>150</td>\n",
              "      <td>105.750</td>\n",
              "      <td>943.7781</td>\n",
              "      <td>1163.25</td>\n",
              "      <td>219.4719</td>\n",
              "      <td>78</td>\n",
              "      <td>11</td>\n",
              "      <td>USA</td>\n",
              "      <td>North America</td>\n",
              "    </tr>\n",
              "    <tr>\n",
              "      <th>2171</th>\n",
              "      <td>11080</td>\n",
              "      <td>14</td>\n",
              "      <td>100</td>\n",
              "      <td>115.000</td>\n",
              "      <td>2028.6000</td>\n",
              "      <td>2415.00</td>\n",
              "      <td>386.4000</td>\n",
              "      <td>77</td>\n",
              "      <td>11</td>\n",
              "      <td>USA</td>\n",
              "      <td>North America</td>\n",
              "    </tr>\n",
              "  </tbody>\n",
              "</table>\n",
              "<p>2172 rows × 11 columns</p>\n",
              "</div>"
            ],
            "text/plain": [
              "      CupomID  ProdutoID  Quantidade  ...  FuncionarioID    Pais         Regiao\n",
              "0       10308         69           1  ...              2  Mexico  North America\n",
              "1       10308         70           5  ...              2  Mexico  North America\n",
              "2       10625         60          10  ...              3  Mexico  North America\n",
              "3       10625         14           3  ...              3  Mexico  North America\n",
              "4       10625         42           5  ...              3  Mexico  North America\n",
              "...       ...        ...         ...  ...            ...     ...            ...\n",
              "2167    10359         60          80  ...              9      UK         Europe\n",
              "2168    10359         16          56  ...              9      UK         Europe\n",
              "2169    10359         31          70  ...              9      UK         Europe\n",
              "2170    11081         75         150  ...             11     USA  North America\n",
              "2171    11080         14         100  ...             11     USA  North America\n",
              "\n",
              "[2172 rows x 11 columns]"
            ]
          },
          "metadata": {},
          "execution_count": 103
        }
      ]
    },
    {
      "cell_type": "code",
      "metadata": {
        "id": "QT6EZYyHsg2t"
      },
      "source": [
        "from sklearn.preprocessing import LabelEncoder\n",
        "LE=LabelEncoder()"
      ],
      "execution_count": 104,
      "outputs": []
    },
    {
      "cell_type": "code",
      "metadata": {
        "id": "2RbWc_VesaFd"
      },
      "source": [
        "union['cod_Pais']=LE.fit_transform(union['Pais'])\n",
        "union['cod_Regiao']=LE.fit_transform(union['Regiao'])"
      ],
      "execution_count": 105,
      "outputs": []
    },
    {
      "cell_type": "code",
      "metadata": {
        "id": "K2v7zr1Ct4uG",
        "colab": {
          "base_uri": "https://localhost:8080/",
          "height": 575
        },
        "outputId": "1223e068-51e6-4624-ee9f-bd405bcdd3e3"
      },
      "source": [
        "union_final=union[['CupomID','ProdutoID','Quantidade','Desconto','Custo','Valor','ValorLiquido','ClienteID','FuncionarioID','cod_Pais','cod_Regiao']]\n",
        "union_final['Preco_unit']=(union_final['Valor']-union_final['Desconto'])/union_final['Quantidade']\n",
        "union_final['Desconto?']=[1 if s>0 else 0 for s in union_final['Desconto']] \n",
        "union_final"
      ],
      "execution_count": 435,
      "outputs": [
        {
          "output_type": "stream",
          "name": "stderr",
          "text": [
            "/usr/local/lib/python3.7/dist-packages/ipykernel_launcher.py:2: SettingWithCopyWarning:\n",
            "\n",
            "\n",
            "A value is trying to be set on a copy of a slice from a DataFrame.\n",
            "Try using .loc[row_indexer,col_indexer] = value instead\n",
            "\n",
            "See the caveats in the documentation: https://pandas.pydata.org/pandas-docs/stable/user_guide/indexing.html#returning-a-view-versus-a-copy\n",
            "\n"
          ]
        },
        {
          "output_type": "execute_result",
          "data": {
            "text/html": [
              "<div>\n",
              "<style scoped>\n",
              "    .dataframe tbody tr th:only-of-type {\n",
              "        vertical-align: middle;\n",
              "    }\n",
              "\n",
              "    .dataframe tbody tr th {\n",
              "        vertical-align: top;\n",
              "    }\n",
              "\n",
              "    .dataframe thead th {\n",
              "        text-align: right;\n",
              "    }\n",
              "</style>\n",
              "<table border=\"1\" class=\"dataframe\">\n",
              "  <thead>\n",
              "    <tr style=\"text-align: right;\">\n",
              "      <th></th>\n",
              "      <th>CupomID</th>\n",
              "      <th>ProdutoID</th>\n",
              "      <th>Quantidade</th>\n",
              "      <th>Desconto</th>\n",
              "      <th>Custo</th>\n",
              "      <th>Valor</th>\n",
              "      <th>ValorLiquido</th>\n",
              "      <th>ClienteID</th>\n",
              "      <th>FuncionarioID</th>\n",
              "      <th>cod_Pais</th>\n",
              "      <th>cod_Regiao</th>\n",
              "      <th>Preco_unit</th>\n",
              "      <th>Desconto?</th>\n",
              "    </tr>\n",
              "  </thead>\n",
              "  <tbody>\n",
              "    <tr>\n",
              "      <th>0</th>\n",
              "      <td>10308</td>\n",
              "      <td>69</td>\n",
              "      <td>1</td>\n",
              "      <td>0.000</td>\n",
              "      <td>1.8317</td>\n",
              "      <td>2.12</td>\n",
              "      <td>0.2883</td>\n",
              "      <td>2</td>\n",
              "      <td>2</td>\n",
              "      <td>11</td>\n",
              "      <td>1</td>\n",
              "      <td>2.120000</td>\n",
              "      <td>0</td>\n",
              "    </tr>\n",
              "    <tr>\n",
              "      <th>1</th>\n",
              "      <td>10308</td>\n",
              "      <td>70</td>\n",
              "      <td>5</td>\n",
              "      <td>0.000</td>\n",
              "      <td>127.6560</td>\n",
              "      <td>147.75</td>\n",
              "      <td>20.0940</td>\n",
              "      <td>2</td>\n",
              "      <td>2</td>\n",
              "      <td>11</td>\n",
              "      <td>1</td>\n",
              "      <td>29.550000</td>\n",
              "      <td>0</td>\n",
              "    </tr>\n",
              "    <tr>\n",
              "      <th>2</th>\n",
              "      <td>10625</td>\n",
              "      <td>60</td>\n",
              "      <td>10</td>\n",
              "      <td>0.000</td>\n",
              "      <td>39.4470</td>\n",
              "      <td>48.70</td>\n",
              "      <td>9.2530</td>\n",
              "      <td>2</td>\n",
              "      <td>3</td>\n",
              "      <td>11</td>\n",
              "      <td>1</td>\n",
              "      <td>4.870000</td>\n",
              "      <td>0</td>\n",
              "    </tr>\n",
              "    <tr>\n",
              "      <th>3</th>\n",
              "      <td>10625</td>\n",
              "      <td>14</td>\n",
              "      <td>3</td>\n",
              "      <td>0.000</td>\n",
              "      <td>58.9275</td>\n",
              "      <td>72.75</td>\n",
              "      <td>13.8225</td>\n",
              "      <td>2</td>\n",
              "      <td>3</td>\n",
              "      <td>11</td>\n",
              "      <td>1</td>\n",
              "      <td>24.250000</td>\n",
              "      <td>0</td>\n",
              "    </tr>\n",
              "    <tr>\n",
              "      <th>4</th>\n",
              "      <td>10625</td>\n",
              "      <td>42</td>\n",
              "      <td>5</td>\n",
              "      <td>0.000</td>\n",
              "      <td>60.4260</td>\n",
              "      <td>74.60</td>\n",
              "      <td>14.1740</td>\n",
              "      <td>2</td>\n",
              "      <td>3</td>\n",
              "      <td>11</td>\n",
              "      <td>1</td>\n",
              "      <td>14.920000</td>\n",
              "      <td>0</td>\n",
              "    </tr>\n",
              "    <tr>\n",
              "      <th>...</th>\n",
              "      <td>...</td>\n",
              "      <td>...</td>\n",
              "      <td>...</td>\n",
              "      <td>...</td>\n",
              "      <td>...</td>\n",
              "      <td>...</td>\n",
              "      <td>...</td>\n",
              "      <td>...</td>\n",
              "      <td>...</td>\n",
              "      <td>...</td>\n",
              "      <td>...</td>\n",
              "      <td>...</td>\n",
              "      <td>...</td>\n",
              "    </tr>\n",
              "    <tr>\n",
              "      <th>2167</th>\n",
              "      <td>10359</td>\n",
              "      <td>60</td>\n",
              "      <td>80</td>\n",
              "      <td>21.840</td>\n",
              "      <td>377.3952</td>\n",
              "      <td>458.64</td>\n",
              "      <td>81.2448</td>\n",
              "      <td>72</td>\n",
              "      <td>9</td>\n",
              "      <td>18</td>\n",
              "      <td>0</td>\n",
              "      <td>5.460000</td>\n",
              "      <td>1</td>\n",
              "    </tr>\n",
              "    <tr>\n",
              "      <th>2168</th>\n",
              "      <td>10359</td>\n",
              "      <td>16</td>\n",
              "      <td>56</td>\n",
              "      <td>28.672</td>\n",
              "      <td>495.4522</td>\n",
              "      <td>602.11</td>\n",
              "      <td>106.6598</td>\n",
              "      <td>72</td>\n",
              "      <td>9</td>\n",
              "      <td>18</td>\n",
              "      <td>0</td>\n",
              "      <td>10.239964</td>\n",
              "      <td>1</td>\n",
              "    </tr>\n",
              "    <tr>\n",
              "      <th>2169</th>\n",
              "      <td>10359</td>\n",
              "      <td>31</td>\n",
              "      <td>70</td>\n",
              "      <td>30.450</td>\n",
              "      <td>526.1760</td>\n",
              "      <td>639.45</td>\n",
              "      <td>113.2740</td>\n",
              "      <td>72</td>\n",
              "      <td>9</td>\n",
              "      <td>18</td>\n",
              "      <td>0</td>\n",
              "      <td>8.700000</td>\n",
              "      <td>1</td>\n",
              "    </tr>\n",
              "    <tr>\n",
              "      <th>2170</th>\n",
              "      <td>11081</td>\n",
              "      <td>75</td>\n",
              "      <td>150</td>\n",
              "      <td>105.750</td>\n",
              "      <td>943.7781</td>\n",
              "      <td>1163.25</td>\n",
              "      <td>219.4719</td>\n",
              "      <td>78</td>\n",
              "      <td>11</td>\n",
              "      <td>19</td>\n",
              "      <td>1</td>\n",
              "      <td>7.050000</td>\n",
              "      <td>1</td>\n",
              "    </tr>\n",
              "    <tr>\n",
              "      <th>2171</th>\n",
              "      <td>11080</td>\n",
              "      <td>14</td>\n",
              "      <td>100</td>\n",
              "      <td>115.000</td>\n",
              "      <td>2028.6000</td>\n",
              "      <td>2415.00</td>\n",
              "      <td>386.4000</td>\n",
              "      <td>77</td>\n",
              "      <td>11</td>\n",
              "      <td>19</td>\n",
              "      <td>1</td>\n",
              "      <td>23.000000</td>\n",
              "      <td>1</td>\n",
              "    </tr>\n",
              "  </tbody>\n",
              "</table>\n",
              "<p>2172 rows × 13 columns</p>\n",
              "</div>"
            ],
            "text/plain": [
              "      CupomID  ProdutoID  Quantidade  ...  cod_Regiao  Preco_unit  Desconto?\n",
              "0       10308         69           1  ...           1    2.120000          0\n",
              "1       10308         70           5  ...           1   29.550000          0\n",
              "2       10625         60          10  ...           1    4.870000          0\n",
              "3       10625         14           3  ...           1   24.250000          0\n",
              "4       10625         42           5  ...           1   14.920000          0\n",
              "...       ...        ...         ...  ...         ...         ...        ...\n",
              "2167    10359         60          80  ...           0    5.460000          1\n",
              "2168    10359         16          56  ...           0   10.239964          1\n",
              "2169    10359         31          70  ...           0    8.700000          1\n",
              "2170    11081         75         150  ...           1    7.050000          1\n",
              "2171    11080         14         100  ...           1   23.000000          1\n",
              "\n",
              "[2172 rows x 13 columns]"
            ]
          },
          "metadata": {},
          "execution_count": 435
        }
      ]
    },
    {
      "cell_type": "code",
      "metadata": {
        "id": "IdGA_Uz1Kqd1"
      },
      "source": [
        "lista = union_final['ProdutoID'].unique().reshape(-1,1)\n",
        "cor=[]\n",
        "for k in lista:\n",
        "  columns=['Quantidade','Preco_unit']\n",
        "  x=union_final[columns].loc[union_final['ProdutoID']==k[0]].corr()\n",
        "  cor.append(x['Quantidade'].loc['Preco_unit'])"
      ],
      "execution_count": 421,
      "outputs": []
    },
    {
      "cell_type": "code",
      "metadata": {
        "colab": {
          "base_uri": "https://localhost:8080/",
          "height": 419
        },
        "id": "wpoVyoYeicXQ",
        "outputId": "4a1d43ac-acb7-404f-d5ff-cdc019f2d169"
      },
      "source": [
        "correlacoes=pd.DataFrame({'ProdutoID':union_final['ProdutoID'].unique() , 'Correlacao': cor})\n",
        "correlacoes.sort_values(by='Correlacao').reset_index(drop=True)"
      ],
      "execution_count": 455,
      "outputs": [
        {
          "output_type": "execute_result",
          "data": {
            "text/html": [
              "<div>\n",
              "<style scoped>\n",
              "    .dataframe tbody tr th:only-of-type {\n",
              "        vertical-align: middle;\n",
              "    }\n",
              "\n",
              "    .dataframe tbody tr th {\n",
              "        vertical-align: top;\n",
              "    }\n",
              "\n",
              "    .dataframe thead th {\n",
              "        text-align: right;\n",
              "    }\n",
              "</style>\n",
              "<table border=\"1\" class=\"dataframe\">\n",
              "  <thead>\n",
              "    <tr style=\"text-align: right;\">\n",
              "      <th></th>\n",
              "      <th>ProdutoID</th>\n",
              "      <th>Correlacao</th>\n",
              "    </tr>\n",
              "  </thead>\n",
              "  <tbody>\n",
              "    <tr>\n",
              "      <th>0</th>\n",
              "      <td>3</td>\n",
              "      <td>-0.587778</td>\n",
              "    </tr>\n",
              "    <tr>\n",
              "      <th>1</th>\n",
              "      <td>37</td>\n",
              "      <td>-0.572479</td>\n",
              "    </tr>\n",
              "    <tr>\n",
              "      <th>2</th>\n",
              "      <td>66</td>\n",
              "      <td>-0.505345</td>\n",
              "    </tr>\n",
              "    <tr>\n",
              "      <th>3</th>\n",
              "      <td>74</td>\n",
              "      <td>-0.474948</td>\n",
              "    </tr>\n",
              "    <tr>\n",
              "      <th>4</th>\n",
              "      <td>49</td>\n",
              "      <td>-0.428714</td>\n",
              "    </tr>\n",
              "    <tr>\n",
              "      <th>...</th>\n",
              "      <td>...</td>\n",
              "      <td>...</td>\n",
              "    </tr>\n",
              "    <tr>\n",
              "      <th>72</th>\n",
              "      <td>9</td>\n",
              "      <td>0.365551</td>\n",
              "    </tr>\n",
              "    <tr>\n",
              "      <th>73</th>\n",
              "      <td>58</td>\n",
              "      <td>0.393528</td>\n",
              "    </tr>\n",
              "    <tr>\n",
              "      <th>74</th>\n",
              "      <td>50</td>\n",
              "      <td>0.430930</td>\n",
              "    </tr>\n",
              "    <tr>\n",
              "      <th>75</th>\n",
              "      <td>47</td>\n",
              "      <td>0.441808</td>\n",
              "    </tr>\n",
              "    <tr>\n",
              "      <th>76</th>\n",
              "      <td>45</td>\n",
              "      <td>0.448888</td>\n",
              "    </tr>\n",
              "  </tbody>\n",
              "</table>\n",
              "<p>77 rows × 2 columns</p>\n",
              "</div>"
            ],
            "text/plain": [
              "    ProdutoID  Correlacao\n",
              "0           3   -0.587778\n",
              "1          37   -0.572479\n",
              "2          66   -0.505345\n",
              "3          74   -0.474948\n",
              "4          49   -0.428714\n",
              "..        ...         ...\n",
              "72          9    0.365551\n",
              "73         58    0.393528\n",
              "74         50    0.430930\n",
              "75         47    0.441808\n",
              "76         45    0.448888\n",
              "\n",
              "[77 rows x 2 columns]"
            ]
          },
          "metadata": {},
          "execution_count": 455
        }
      ]
    },
    {
      "cell_type": "code",
      "metadata": {
        "colab": {
          "base_uri": "https://localhost:8080/",
          "height": 542
        },
        "id": "o2dbd3Lyru8P",
        "outputId": "9804a3f4-a3f6-4850-e44b-c06c74b8fd4c"
      },
      "source": [
        "grafico = px.scatter (x=union_final['Quantidade'].loc[union_final['ProdutoID']==3],\n",
        "                        y=union_final['Preco_unit'].loc[union_final['ProdutoID']==3])\n",
        "\n",
        "grafico.show()"
      ],
      "execution_count": 461,
      "outputs": [
        {
          "output_type": "display_data",
          "data": {
            "text/html": [
              "<html>\n",
              "<head><meta charset=\"utf-8\" /></head>\n",
              "<body>\n",
              "    <div>\n",
              "            <script src=\"https://cdnjs.cloudflare.com/ajax/libs/mathjax/2.7.5/MathJax.js?config=TeX-AMS-MML_SVG\"></script><script type=\"text/javascript\">if (window.MathJax) {MathJax.Hub.Config({SVG: {font: \"STIX-Web\"}});}</script>\n",
              "                <script type=\"text/javascript\">window.PlotlyConfig = {MathJaxConfig: 'local'};</script>\n",
              "        <script src=\"https://cdn.plot.ly/plotly-latest.min.js\"></script>    \n",
              "            <div id=\"ec643bcb-f216-4ec1-9b2a-5547de682f19\" class=\"plotly-graph-div\" style=\"height:525px; width:100%;\"></div>\n",
              "            <script type=\"text/javascript\">\n",
              "                \n",
              "                    window.PLOTLYENV=window.PLOTLYENV || {};\n",
              "                    \n",
              "                if (document.getElementById(\"ec643bcb-f216-4ec1-9b2a-5547de682f19\")) {\n",
              "                    Plotly.newPlot(\n",
              "                        'ec643bcb-f216-4ec1-9b2a-5547de682f19',\n",
              "                        [{\"hoverlabel\": {\"namelength\": 0}, \"hovertemplate\": \"x=%{x}<br>y=%{y}\", \"legendgroup\": \"\", \"marker\": {\"color\": \"#636efa\", \"symbol\": \"circle\"}, \"mode\": \"markers\", \"name\": \"\", \"showlegend\": false, \"type\": \"scatter\", \"x\": [4, 30, 20, 60, 6, 30, 20, 49, 25, 14, 20, 50, 25, 35], \"xaxis\": \"x\", \"y\": [21.85, 19.59, 19.7, 19.1, 20.16, 20.540000000000003, 20.0, 19.75, 21.53, 19.48, 21.68, 18.48, 19.5002, 19.550071428571428], \"yaxis\": \"y\"}],\n",
              "                        {\"legend\": {\"tracegroupgap\": 0}, \"margin\": {\"t\": 60}, \"template\": {\"data\": {\"bar\": [{\"error_x\": {\"color\": \"#2a3f5f\"}, \"error_y\": {\"color\": \"#2a3f5f\"}, \"marker\": {\"line\": {\"color\": \"#E5ECF6\", \"width\": 0.5}}, \"type\": \"bar\"}], \"barpolar\": [{\"marker\": {\"line\": {\"color\": \"#E5ECF6\", \"width\": 0.5}}, \"type\": \"barpolar\"}], \"carpet\": [{\"aaxis\": {\"endlinecolor\": \"#2a3f5f\", \"gridcolor\": \"white\", \"linecolor\": \"white\", \"minorgridcolor\": \"white\", \"startlinecolor\": \"#2a3f5f\"}, \"baxis\": {\"endlinecolor\": \"#2a3f5f\", \"gridcolor\": \"white\", \"linecolor\": \"white\", \"minorgridcolor\": \"white\", \"startlinecolor\": \"#2a3f5f\"}, \"type\": \"carpet\"}], \"choropleth\": [{\"colorbar\": {\"outlinewidth\": 0, \"ticks\": \"\"}, \"type\": \"choropleth\"}], \"contour\": [{\"colorbar\": {\"outlinewidth\": 0, \"ticks\": \"\"}, \"colorscale\": [[0.0, \"#0d0887\"], [0.1111111111111111, \"#46039f\"], [0.2222222222222222, \"#7201a8\"], [0.3333333333333333, \"#9c179e\"], [0.4444444444444444, \"#bd3786\"], [0.5555555555555556, \"#d8576b\"], [0.6666666666666666, \"#ed7953\"], [0.7777777777777778, \"#fb9f3a\"], [0.8888888888888888, \"#fdca26\"], [1.0, \"#f0f921\"]], \"type\": \"contour\"}], \"contourcarpet\": [{\"colorbar\": {\"outlinewidth\": 0, \"ticks\": \"\"}, \"type\": \"contourcarpet\"}], \"heatmap\": [{\"colorbar\": {\"outlinewidth\": 0, \"ticks\": \"\"}, \"colorscale\": [[0.0, \"#0d0887\"], [0.1111111111111111, \"#46039f\"], [0.2222222222222222, \"#7201a8\"], [0.3333333333333333, \"#9c179e\"], [0.4444444444444444, \"#bd3786\"], [0.5555555555555556, \"#d8576b\"], [0.6666666666666666, \"#ed7953\"], [0.7777777777777778, \"#fb9f3a\"], [0.8888888888888888, \"#fdca26\"], [1.0, \"#f0f921\"]], \"type\": \"heatmap\"}], \"heatmapgl\": [{\"colorbar\": {\"outlinewidth\": 0, \"ticks\": \"\"}, \"colorscale\": [[0.0, \"#0d0887\"], [0.1111111111111111, \"#46039f\"], [0.2222222222222222, \"#7201a8\"], [0.3333333333333333, \"#9c179e\"], [0.4444444444444444, \"#bd3786\"], [0.5555555555555556, \"#d8576b\"], [0.6666666666666666, \"#ed7953\"], [0.7777777777777778, \"#fb9f3a\"], [0.8888888888888888, \"#fdca26\"], [1.0, \"#f0f921\"]], \"type\": \"heatmapgl\"}], \"histogram\": [{\"marker\": {\"colorbar\": {\"outlinewidth\": 0, \"ticks\": \"\"}}, \"type\": \"histogram\"}], \"histogram2d\": [{\"colorbar\": {\"outlinewidth\": 0, \"ticks\": \"\"}, \"colorscale\": [[0.0, \"#0d0887\"], [0.1111111111111111, \"#46039f\"], [0.2222222222222222, \"#7201a8\"], [0.3333333333333333, \"#9c179e\"], [0.4444444444444444, \"#bd3786\"], [0.5555555555555556, \"#d8576b\"], [0.6666666666666666, \"#ed7953\"], [0.7777777777777778, \"#fb9f3a\"], [0.8888888888888888, \"#fdca26\"], [1.0, \"#f0f921\"]], \"type\": \"histogram2d\"}], \"histogram2dcontour\": [{\"colorbar\": {\"outlinewidth\": 0, \"ticks\": \"\"}, \"colorscale\": [[0.0, \"#0d0887\"], [0.1111111111111111, \"#46039f\"], [0.2222222222222222, \"#7201a8\"], [0.3333333333333333, \"#9c179e\"], [0.4444444444444444, \"#bd3786\"], [0.5555555555555556, \"#d8576b\"], [0.6666666666666666, \"#ed7953\"], [0.7777777777777778, \"#fb9f3a\"], [0.8888888888888888, \"#fdca26\"], [1.0, \"#f0f921\"]], \"type\": \"histogram2dcontour\"}], \"mesh3d\": [{\"colorbar\": {\"outlinewidth\": 0, \"ticks\": \"\"}, \"type\": \"mesh3d\"}], \"parcoords\": [{\"line\": {\"colorbar\": {\"outlinewidth\": 0, \"ticks\": \"\"}}, \"type\": \"parcoords\"}], \"pie\": [{\"automargin\": true, \"type\": \"pie\"}], \"scatter\": [{\"marker\": {\"colorbar\": {\"outlinewidth\": 0, \"ticks\": \"\"}}, \"type\": \"scatter\"}], \"scatter3d\": [{\"line\": {\"colorbar\": {\"outlinewidth\": 0, \"ticks\": \"\"}}, \"marker\": {\"colorbar\": {\"outlinewidth\": 0, \"ticks\": \"\"}}, \"type\": \"scatter3d\"}], \"scattercarpet\": [{\"marker\": {\"colorbar\": {\"outlinewidth\": 0, \"ticks\": \"\"}}, \"type\": \"scattercarpet\"}], \"scattergeo\": [{\"marker\": {\"colorbar\": {\"outlinewidth\": 0, \"ticks\": \"\"}}, \"type\": \"scattergeo\"}], \"scattergl\": [{\"marker\": {\"colorbar\": {\"outlinewidth\": 0, \"ticks\": \"\"}}, \"type\": \"scattergl\"}], \"scattermapbox\": [{\"marker\": {\"colorbar\": {\"outlinewidth\": 0, \"ticks\": \"\"}}, \"type\": \"scattermapbox\"}], \"scatterpolar\": [{\"marker\": {\"colorbar\": {\"outlinewidth\": 0, \"ticks\": \"\"}}, \"type\": \"scatterpolar\"}], \"scatterpolargl\": [{\"marker\": {\"colorbar\": {\"outlinewidth\": 0, \"ticks\": \"\"}}, \"type\": \"scatterpolargl\"}], \"scatterternary\": [{\"marker\": {\"colorbar\": {\"outlinewidth\": 0, \"ticks\": \"\"}}, \"type\": \"scatterternary\"}], \"surface\": [{\"colorbar\": {\"outlinewidth\": 0, \"ticks\": \"\"}, \"colorscale\": [[0.0, \"#0d0887\"], [0.1111111111111111, \"#46039f\"], [0.2222222222222222, \"#7201a8\"], [0.3333333333333333, \"#9c179e\"], [0.4444444444444444, \"#bd3786\"], [0.5555555555555556, \"#d8576b\"], [0.6666666666666666, \"#ed7953\"], [0.7777777777777778, \"#fb9f3a\"], [0.8888888888888888, \"#fdca26\"], [1.0, \"#f0f921\"]], \"type\": \"surface\"}], \"table\": [{\"cells\": {\"fill\": {\"color\": \"#EBF0F8\"}, \"line\": {\"color\": \"white\"}}, \"header\": {\"fill\": {\"color\": \"#C8D4E3\"}, \"line\": {\"color\": \"white\"}}, \"type\": \"table\"}]}, \"layout\": {\"annotationdefaults\": {\"arrowcolor\": \"#2a3f5f\", \"arrowhead\": 0, \"arrowwidth\": 1}, \"coloraxis\": {\"colorbar\": {\"outlinewidth\": 0, \"ticks\": \"\"}}, \"colorscale\": {\"diverging\": [[0, \"#8e0152\"], [0.1, \"#c51b7d\"], [0.2, \"#de77ae\"], [0.3, \"#f1b6da\"], [0.4, \"#fde0ef\"], [0.5, \"#f7f7f7\"], [0.6, \"#e6f5d0\"], [0.7, \"#b8e186\"], [0.8, \"#7fbc41\"], [0.9, \"#4d9221\"], [1, \"#276419\"]], \"sequential\": [[0.0, \"#0d0887\"], [0.1111111111111111, \"#46039f\"], [0.2222222222222222, \"#7201a8\"], [0.3333333333333333, \"#9c179e\"], [0.4444444444444444, \"#bd3786\"], [0.5555555555555556, \"#d8576b\"], [0.6666666666666666, \"#ed7953\"], [0.7777777777777778, \"#fb9f3a\"], [0.8888888888888888, \"#fdca26\"], [1.0, \"#f0f921\"]], \"sequentialminus\": [[0.0, \"#0d0887\"], [0.1111111111111111, \"#46039f\"], [0.2222222222222222, \"#7201a8\"], [0.3333333333333333, \"#9c179e\"], [0.4444444444444444, \"#bd3786\"], [0.5555555555555556, \"#d8576b\"], [0.6666666666666666, \"#ed7953\"], [0.7777777777777778, \"#fb9f3a\"], [0.8888888888888888, \"#fdca26\"], [1.0, \"#f0f921\"]]}, \"colorway\": [\"#636efa\", \"#EF553B\", \"#00cc96\", \"#ab63fa\", \"#FFA15A\", \"#19d3f3\", \"#FF6692\", \"#B6E880\", \"#FF97FF\", \"#FECB52\"], \"font\": {\"color\": \"#2a3f5f\"}, \"geo\": {\"bgcolor\": \"white\", \"lakecolor\": \"white\", \"landcolor\": \"#E5ECF6\", \"showlakes\": true, \"showland\": true, \"subunitcolor\": \"white\"}, \"hoverlabel\": {\"align\": \"left\"}, \"hovermode\": \"closest\", \"mapbox\": {\"style\": \"light\"}, \"paper_bgcolor\": \"white\", \"plot_bgcolor\": \"#E5ECF6\", \"polar\": {\"angularaxis\": {\"gridcolor\": \"white\", \"linecolor\": \"white\", \"ticks\": \"\"}, \"bgcolor\": \"#E5ECF6\", \"radialaxis\": {\"gridcolor\": \"white\", \"linecolor\": \"white\", \"ticks\": \"\"}}, \"scene\": {\"xaxis\": {\"backgroundcolor\": \"#E5ECF6\", \"gridcolor\": \"white\", \"gridwidth\": 2, \"linecolor\": \"white\", \"showbackground\": true, \"ticks\": \"\", \"zerolinecolor\": \"white\"}, \"yaxis\": {\"backgroundcolor\": \"#E5ECF6\", \"gridcolor\": \"white\", \"gridwidth\": 2, \"linecolor\": \"white\", \"showbackground\": true, \"ticks\": \"\", \"zerolinecolor\": \"white\"}, \"zaxis\": {\"backgroundcolor\": \"#E5ECF6\", \"gridcolor\": \"white\", \"gridwidth\": 2, \"linecolor\": \"white\", \"showbackground\": true, \"ticks\": \"\", \"zerolinecolor\": \"white\"}}, \"shapedefaults\": {\"line\": {\"color\": \"#2a3f5f\"}}, \"ternary\": {\"aaxis\": {\"gridcolor\": \"white\", \"linecolor\": \"white\", \"ticks\": \"\"}, \"baxis\": {\"gridcolor\": \"white\", \"linecolor\": \"white\", \"ticks\": \"\"}, \"bgcolor\": \"#E5ECF6\", \"caxis\": {\"gridcolor\": \"white\", \"linecolor\": \"white\", \"ticks\": \"\"}}, \"title\": {\"x\": 0.05}, \"xaxis\": {\"automargin\": true, \"gridcolor\": \"white\", \"linecolor\": \"white\", \"ticks\": \"\", \"title\": {\"standoff\": 15}, \"zerolinecolor\": \"white\", \"zerolinewidth\": 2}, \"yaxis\": {\"automargin\": true, \"gridcolor\": \"white\", \"linecolor\": \"white\", \"ticks\": \"\", \"title\": {\"standoff\": 15}, \"zerolinecolor\": \"white\", \"zerolinewidth\": 2}}}, \"xaxis\": {\"anchor\": \"y\", \"domain\": [0.0, 1.0], \"title\": {\"text\": \"x\"}}, \"yaxis\": {\"anchor\": \"x\", \"domain\": [0.0, 1.0], \"title\": {\"text\": \"y\"}}},\n",
              "                        {\"responsive\": true}\n",
              "                    ).then(function(){\n",
              "                            \n",
              "var gd = document.getElementById('ec643bcb-f216-4ec1-9b2a-5547de682f19');\n",
              "var x = new MutationObserver(function (mutations, observer) {{\n",
              "        var display = window.getComputedStyle(gd).display;\n",
              "        if (!display || display === 'none') {{\n",
              "            console.log([gd, 'removed!']);\n",
              "            Plotly.purge(gd);\n",
              "            observer.disconnect();\n",
              "        }}\n",
              "}});\n",
              "\n",
              "// Listen for the removal of the full notebook cells\n",
              "var notebookContainer = gd.closest('#notebook-container');\n",
              "if (notebookContainer) {{\n",
              "    x.observe(notebookContainer, {childList: true});\n",
              "}}\n",
              "\n",
              "// Listen for the clearing of the current output cell\n",
              "var outputEl = gd.closest('.output');\n",
              "if (outputEl) {{\n",
              "    x.observe(outputEl, {childList: true});\n",
              "}}\n",
              "\n",
              "                        })\n",
              "                };\n",
              "                \n",
              "            </script>\n",
              "        </div>\n",
              "</body>\n",
              "</html>"
            ]
          },
          "metadata": {}
        }
      ]
    },
    {
      "cell_type": "code",
      "metadata": {
        "colab": {
          "base_uri": "https://localhost:8080/",
          "height": 406
        },
        "id": "rRDstEIcling",
        "outputId": "e5539d0c-7486-4345-d779-7a5e0c0cf736"
      },
      "source": [
        "union_final.boxplot(column=['ValorLiquido'], by=['Desconto?'])"
      ],
      "execution_count": 475,
      "outputs": [
        {
          "output_type": "stream",
          "name": "stderr",
          "text": [
            "/usr/local/lib/python3.7/dist-packages/numpy/core/_asarray.py:83: VisibleDeprecationWarning:\n",
            "\n",
            "Creating an ndarray from ragged nested sequences (which is a list-or-tuple of lists-or-tuples-or ndarrays with different lengths or shapes) is deprecated. If you meant to do this, you must specify 'dtype=object' when creating the ndarray\n",
            "\n"
          ]
        },
        {
          "output_type": "execute_result",
          "data": {
            "text/plain": [
              "<matplotlib.axes._subplots.AxesSubplot at 0x7efdd355e710>"
            ]
          },
          "metadata": {},
          "execution_count": 475
        },
        {
          "output_type": "display_data",
          "data": {
            "image/png": "[encoded data removed]",
            "text/plain": [
              "<Figure size 432x288 with 1 Axes>"
            ]
          },
          "metadata": {
            "needs_background": "light"
          }
        }
      ]
    },
    {
      "cell_type": "code",
      "metadata": {
        "colab": {
          "base_uri": "https://localhost:8080/",
          "height": 542
        },
        "id": "TyKX_rVenHX9",
        "outputId": "c9cd09dd-1c73-4e9c-921d-35c909903ce7"
      },
      "source": [
        "grafico = px.scatter (x=union_final['Desconto'].loc[union_final['Desconto']!=0],\n",
        "                        y=union_final['Valor'].loc[union_final['Desconto']!=0])\n",
        "\n",
        "grafico.show()"
      ],
      "execution_count": 479,
      "outputs": [
        {
          "output_type": "display_data",
          "data": {
            "text/html": [
              "<html>\n",
              "<head><meta charset=\"utf-8\" /></head>\n",
              "<body>\n",
              "    <div>\n",
              "            <script src=\"https://cdnjs.cloudflare.com/ajax/libs/mathjax/2.7.5/MathJax.js?config=TeX-AMS-MML_SVG\"></script><script type=\"text/javascript\">if (window.MathJax) {MathJax.Hub.Config({SVG: {font: \"STIX-Web\"}});}</script>\n",
              "                <script type=\"text/javascript\">window.PlotlyConfig = {MathJaxConfig: 'local'};</script>\n",
              "        <script src=\"https://cdn.plot.ly/plotly-latest.min.js\"></script>    \n",
              "            <div id=\"a2fbada5-af07-47df-b539-33298731d8c8\" class=\"plotly-graph-div\" style=\"height:525px; width:100%;\"></div>\n",
              "            <script type=\"text/javascript\">\n",
              "                \n",
              "                    window.PLOTLYENV=window.PLOTLYENV || {};\n",
              "                    \n",
              "                if (document.getElementById(\"a2fbada5-af07-47df-b539-33298731d8c8\")) {\n",
              "                    Plotly.newPlot(\n",
              "                        'a2fbada5-af07-47df-b539-33298731d8c8',\n",
              "                        [{\"hoverlabel\": {\"namelength\": 0}, \"hovertemplate\": \"x=%{x}<br>y=%{y}\", \"legendgroup\": \"\", \"marker\": {\"color\": \"#636efa\", \"symbol\": \"circle\"}, \"mode\": \"markers\", \"name\": \"\", \"showlegend\": false, \"type\": \"scatter\", \"x\": [51.552, 70.416, 14.76, 59.5, 128.76, 319.2, 406.84, 17.77, 5.679, 9.32, 15.6375, 20.31, 20.976, 108.24, 344.64, 23.94, 35.52, 111.48, 1165.023, 20.046, 369.84, 41.88, 16.76, 47.112, 52.596, 167.5275, 348.0, 196.0, 485.5, 2014.95, 22.14, 29.01, 96.83, 1919.05, 0.0605, 2.5584, 1.8608, 5.365, 10.805, 4.39, 7.7625, 15.3405, 90.864, 27.55, 30.03, 47.898, 37.11, 6.31, 113.04, 2.472, 2.676, 5.265, 61.711, 113.19, 2.862, 17.79, 18.075, 11.1645, 23.07, 25.235, 119.8125, 229.215, 549.85, 6.195, 10.6275, 11.136, 6.804, 35.0625, 162.4375, 574.5, 806.325, 59.76, 60.12, 64.773, 32.052, 14.3475, 125.81, 16.68, 63.54, 107.32, 78.575, 79.52, 131.91, 25.65, 59.31, 113.715, 170.289, 1.434, 113.7, 14.91, 185.265, 16.98, 51.06, 2.51, 51.86, 5.4, 32.522, 50.7, 6.36, 8.892, 12.2985, 555.48, 23.22, 79.69, 200.2, 24.1625, 35.8125, 64.224, 36.72, 148.715, 1.308, 4.53, 6.5625, 4.125, 20.735, 27.48, 23.472, 46.53, 47.52, 63.0, 291.04, 322.85, 9.588, 11.948, 32.76, 74.802, 46.548, 88.55, 1573.5, 120.72, 68.9, 171.75, 284.85, 124.404, 14.025, 18.39, 25.125, 4.84, 2.3875, 16.176, 9.9, 29.91, 8.226, 22.525, 91.2, 9.63, 80.598, 45.1, 262.5, 313.775, 60.48, 94.368, 97.664, 300.16, 117.0, 90.93, 829.1475, 10.9125, 10.304, 126.98, 12.4375, 71.82, 208.95, 311.7, 22.752, 34.44, 105.9, 27.69, 59.85, 170.016, 66.432, 123.08, 178.15, 180.7, 71.4, 754.0, 135.6, 32.536, 464.52, 11.6, 10.128, 118.398, 254.03, 3.764, 21.92, 62.1, 80.514, 7.035, 92.6625, 240.9, 13.78, 140.4, 11.976, 12.48, 20.36, 271.2, 2028.18, 19.35, 26.964, 127.08, 51.282, 124.35, 258.825, 304.25, 160.825, 30.04, 36.564, 2.16, 5.376, 25.096, 73.36, 2.88, 45.918, 121.92, 3.294, 24.735, 2.555, 6.04, 11.61, 514.625, 17.75, 27.45, 13.05, 46.296, 22.368, 27.314, 42.4, 1001.184, 28.575, 72.9375, 115.2375, 225.0, 16.26, 26.1, 330.6, 32.55, 127.4375, 8.835, 39.378, 512.54, 28.86, 79.84, 22.296, 33.768, 71.855, 22.645, 100.38, 145.5, 68.125, 84.0, 64.48, 104.04, 68.625, 73.4, 54.873, 96.48, 1885.5901, 67.914, 136.485, 350.325, 464.94, 190.3125, 88.956, 255.0, 1834.05, 317.9, 849.12, 141.9, 250.83, 398.55, 5.778, 9.4, 19.248, 6.7125, 8.256, 58.05, 680.064, 16.225, 56.49, 65.59, 301.44, 48.95, 1113.97, 12.65, 44.66, 69.65, 25.2, 117.65, 25.685, 326.916, 64.435, 76.02, 113.15, 282.3625, 29.848, 68.805, 125.79, 480.36, 16.74, 23.775, 67.224, 67.41, 100.92, 63.525, 141.45, 703.152, 205.975, 119.36, 180.8, 7292.5201, 137.76, 177.48, 438.912, 76.56, 210.4, 278.2, 81.82, 188.925, 243.42, 251.76, 95.3, 108.1125, 15.804, 41.52, 121.005, 6.6, 36.96, 39.72, 122.175, 30.56, 42.264, 11.98, 31.232, 94.72, 3.94, 1.224, 50.525, 25.2, 190.98, 49.86, 162.18, 291.7, 8.6, 13.92, 29.64, 107.268, 7.539, 14.238, 190.456, 43.568, 10.384, 27.3, 5.478, 23.86, 24.3, 21.42, 11.124, 29.07, 65.575, 26.24, 26.256, 54.18, 39.375, 52.32, 29.12, 52.64, 48.51, 97.92, 19.83, 22.7175, 56.7525, 88.22, 204.6, 256.4, 76.71, 79.28, 179.9, 29.64, 132.105, 130.38, 130.65, 155.16, 163.2825, 349.375, 123.54, 179.34, 202.425, 223.75, 317.125, 118.88, 2.655, 9.765, 333.36, 20.454, 50.19, 105.36, 35.91, 44.82, 90.528, 42.0, 42.11, 74.64, 110.992, 12.17, 82.2, 14.0, 21.105, 339.5, 1.87, 14.235, 19.93, 2.481, 8.42, 11.112, 115.14, 2.12, 4.13, 7.61, 16.3625, 7.74, 387.45, 18.24, 24.69, 31.3125, 291.75, 32.955, 178.95, 318.6, 48.966, 198.8, 287.1, 38.4, 92.85, 1.017, 15.84, 5.575, 174.6, 295.68, 4.92, 6.195, 8.28, 3.096, 15.904, 153.025, 207.053, 16.3275, 33.9375, 52.92, 7.389, 14.16, 50.12, 23.436, 187.605, 41.88, 28.404, 18.242, 19.6, 40.0, 708.89, 67.41, 278.091, 383.8575, 91.96, 21.825, 29.25, 43.95, 779.4, 32.375, 327.285, 28.56, 29.92, 60.9, 22.3875, 24.66, 74.808, 53.85, 76.075, 197.9, 2.31, 20.112, 44.3125, 4.425, 6.585, 9.545, 18.585, 5.04, 75.04, 283.899, 15.64, 28.47, 37.856, 39.05, 106.625, 138.7, 2.895, 18.432, 10.5, 124.04, 6.096, 19.55, 50.8, 50.98, 13.71, 69.51, 26.586, 43.05, 55.14, 63.252, 21.1575, 39.144, 21.168, 90.45, 101.4375, 162.72, 179.76, 8.17, 18.54, 144.87, 58.62, 91.44, 167.08, 24.37, 53.528, 54.09, 19.725, 209.75, 71.648, 236.22, 1.87, 13.77, 7.84, 335.16, 349.398, 2.31, 5.624, 23.65, 80.0875, 161.3625, 22.698, 162.84, 7.215, 7.4, 39.42, 60.51, 111.42, 36.375, 42.6125, 36.96, 73.9, 13.82, 41.34, 59.71, 19.62, 140.94, 20.3925, 91.25, 103.52, 173.04, 101.325, 119.84, 202.86, 40.38, 54.789, 29.55, 151.86, 7.776, 39.06, 24.6, 188.45, 19.665, 35.64, 60.62, 13.035, 31.875, 40.65, 245.55, 63.1, 376.85, 46.8, 100.8, 98.6, 191.03, 528.6, 77.124, 7.92, 62.1075, 6.24, 7.254, 61.125, 125.91, 10.17, 128.394, 11.31, 30.87, 240.624, 18.864, 5.478, 19.8, 43.239, 124.5125, 27.6255, 49.86, 59.01, 247.08, 44.7, 120.6875, 39.9, 72.0, 13.485, 61.1625, 285.138, 48.8775, 155.16, 2614.1851, 64.08, 96.1, 168.14, 263.82, 291.0, 116.64, 2749.2001, 4.8, 11.25, 8.991, 7.947, 54.603, 81.16, 4.383, 13.92, 17.3025, 6.81, 9.42, 14.715, 26.8, 25.704, 9.5, 12.642, 73.8525, 40.08, 108.075, 154.1925, 7.376, 37.4, 13.12, 17.505, 109.32, 21.72, 60.16, 5.484, 18.045, 125.775, 7.464, 20.0, 32.56, 21.312, 46.06, 198.432, 3.528, 33.62, 9.2, 103.2, 6.536, 16.48, 54.255, 43.6725, 24.88, 28.905, 3.786, 3.94, 31.53, 198.828, 201.66, 8.24, 23.34, 52.32, 81.774, 19.8125, 110.22, 58.8, 83.91, 110.4, 56.232, 58.338, 60.534, 92.75, 112.875, 243.72, 779.4, 22.251, 177.45, 232.7, 37.71, 5.7, 20.512, 25.65, 19.155, 32.34, 70.48, 10.941, 21.015, 24.4275, 30.93, 16.488, 46.2, 549.76, 35.925, 150.99, 8.685, 23.91, 18.396, 50.535, 26.94, 355.26, 26.74, 29.73, 50.895, 6.9, 9.45, 16.9425, 23.985, 6.975, 440.4, 7.92, 77.9, 77.875, 12.744, 259.68, 9.324, 3.858, 18.768, 15.36, 27.6, 218.048, 25.68, 26.4, 307.056, 39.795, 90.1, 1807.15, 21.3075, 512.7675, 14.77, 24.939, 30.984, 33.3, 29.85, 152.838, 55.84, 71.52, 95.25, 100.5, 205.25, 17.232, 109.02, 151.04, 5.232, 35.064, 22.875, 71.172, 137.55, 13.5225, 14.735, 208.125, 328.35, 20.52, 95.375, 175.0, 18.468, 108.42, 19.728, 31.575, 41.076, 28.504, 34.88, 43.36, 105.63, 160.8, 13.392, 20.13, 81.69, 342.5, 10.19, 11.49, 19.4, 141.5, 25.6725, 71.8875, 31.812, 151.11, 4.25, 9.844, 24.078, 77.36, 19.96, 21.84, 72.26, 177.39, 11.075, 63.432, 7.95, 14.19, 19.04, 24.2175, 30.26, 78.624, 198.56, 85.61, 16.254, 66.6, 75.12, 844.76, 42.18, 23.085, 120.51, 19.1, 24.45, 124.65, 19.44, 87.108, 31.9725, 334.215, 36.2835, 56.868, 94.5, 266.955, 16.065, 272.484, 47.355, 285.5, 41.814, 27.5175, 53.28, 75.075, 448.68, 404.55, 9.45, 24.375, 47.8975, 12.75, 249.4, 659.7, 609.84, 21.84, 28.672, 30.45, 105.75, 115.0], \"xaxis\": \"x\", \"y\": [395.23, 539.86, 88.56, 357.0, 772.56, 1915.2, 2441.04, 106.62, 119.26, 195.72, 328.39, 121.86, 125.86, 649.44, 2067.84, 143.64, 213.12, 668.88, 8931.84, 220.51, 4068.24, 251.28, 351.96, 361.19, 403.24, 1284.38, 2668.0, 980.0, 2427.5, 10074.75, 464.94, 609.21, 2033.43, 21109.55, 6.11, 45.2, 94.9, 112.67, 118.86, 223.89, 266.51, 526.69, 545.18, 578.55, 630.63, 1245.35, 1274.11, 31.55, 565.2, 51.91, 56.2, 57.92, 678.82, 1245.09, 60.1, 373.59, 379.58, 85.59, 115.35, 126.18, 599.06, 1146.08, 2749.25, 130.1, 223.18, 233.86, 142.88, 175.31, 812.19, 2872.5, 4031.63, 458.16, 460.92, 496.59, 192.31, 301.3, 2642.01, 350.28, 381.24, 643.92, 864.33, 874.72, 1451.01, 196.65, 454.71, 871.82, 1305.55, 10.99, 871.7, 114.31, 1420.37, 130.18, 391.46, 27.61, 570.46, 113.4, 682.96, 1064.7, 133.56, 186.73, 258.27, 11665.08, 139.32, 478.14, 1201.2, 507.41, 274.56, 492.38, 771.12, 3123.02, 27.47, 95.13, 137.81, 86.63, 435.44, 577.08, 140.83, 279.18, 285.12, 378.0, 1746.24, 1937.1, 201.35, 250.91, 687.96, 1570.84, 279.29, 442.75, 7867.5, 724.32, 757.9, 1889.25, 3133.35, 953.76, 154.28, 202.29, 276.38, 29.04, 50.14, 339.7, 108.9, 329.01, 172.75, 473.03, 1915.2, 202.23, 1692.56, 225.5, 1312.5, 1568.88, 362.88, 566.21, 585.98, 1800.96, 585.0, 697.13, 6356.8, 83.66, 61.82, 761.88, 62.19, 359.1, 1044.75, 1558.5, 136.51, 206.64, 529.5, 304.59, 458.85, 1303.46, 398.59, 738.48, 1068.9, 1084.2, 428.4, 4524.0, 813.6, 357.9, 5109.72, 58.0, 60.77, 710.39, 1524.18, 79.04, 241.12, 476.1, 617.27, 35.18, 463.31, 1204.5, 151.58, 1544.4, 131.74, 137.28, 223.96, 1356.0, 10140.9, 212.85, 296.6, 1397.88, 564.1, 1367.85, 1294.13, 1521.25, 804.13, 330.44, 402.2, 23.76, 59.14, 276.06, 806.96, 31.68, 505.1, 1341.12, 36.23, 272.09, 53.66, 126.84, 58.05, 2573.13, 88.75, 137.25, 100.05, 354.94, 134.21, 163.88, 254.4, 6007.1, 142.88, 364.69, 576.19, 1125.0, 178.86, 156.6, 1983.6, 162.75, 637.19, 185.54, 236.27, 3075.24, 317.46, 878.24, 245.26, 371.45, 790.41, 249.1, 1104.18, 1600.5, 749.38, 924.0, 386.88, 624.24, 343.13, 367.0, 420.69, 739.68, 14456.19, 520.67, 1046.39, 2685.83, 3564.54, 951.56, 978.52, 1275.0, 9170.25, 1907.4, 5094.72, 709.5, 1254.15, 1992.75, 121.34, 197.4, 404.21, 140.96, 173.38, 1219.05, 14281.34, 178.48, 621.39, 721.49, 3315.84, 244.75, 5569.85, 265.65, 937.86, 1462.65, 277.2, 1294.15, 282.54, 3596.08, 322.18, 380.1, 565.75, 1411.81, 328.33, 756.86, 1383.69, 5283.96, 351.54, 499.28, 515.38, 516.81, 773.72, 487.03, 1084.45, 5390.83, 1029.88, 716.16, 1084.8, 43755.12, 826.56, 1064.88, 2633.47, 842.16, 1262.4, 1669.2, 1718.22, 3967.43, 5111.82, 5286.96, 476.5, 540.56, 121.16, 318.32, 927.71, 138.6, 283.36, 304.52, 936.68, 183.36, 253.58, 251.58, 655.87, 473.6, 19.7, 25.7, 1061.03, 193.2, 1464.18, 299.16, 973.08, 1750.2, 51.6, 83.52, 177.84, 643.61, 82.93, 156.62, 2095.02, 261.41, 114.22, 300.3, 115.04, 501.06, 510.3, 164.22, 122.36, 319.77, 327.88, 288.64, 288.82, 595.98, 301.88, 313.92, 320.32, 579.04, 371.91, 750.72, 416.43, 477.07, 1191.8, 441.1, 1023.0, 1282.0, 460.26, 475.68, 1079.4, 622.44, 2774.21, 651.9, 653.25, 775.8, 816.41, 1746.88, 947.14, 1374.94, 1012.13, 1118.75, 1585.63, 1307.68, 20.36, 74.87, 2555.76, 156.81, 384.79, 807.76, 215.46, 268.92, 543.17, 252.0, 252.66, 447.84, 665.95, 255.57, 1726.2, 294.0, 443.21, 1697.5, 20.57, 156.59, 219.23, 27.29, 92.62, 122.23, 1266.54, 44.52, 86.73, 159.81, 81.81, 85.14, 4261.95, 91.2, 123.45, 156.56, 1458.75, 252.66, 1371.95, 2442.6, 375.41, 1192.8, 1722.6, 192.0, 464.25, 21.36, 332.64, 27.88, 873.0, 1478.4, 29.52, 47.5, 49.68, 65.02, 174.94, 1683.28, 2277.58, 125.18, 260.19, 405.72, 155.17, 155.76, 551.32, 179.68, 1438.31, 251.28, 312.44, 383.08, 411.6, 440.0, 7797.79, 516.81, 2132.03, 2942.91, 1931.16, 109.13, 146.25, 219.75, 3897.0, 161.88, 1636.43, 171.36, 179.52, 365.4, 171.64, 189.06, 573.53, 592.35, 836.83, 1187.4, 48.51, 422.35, 930.56, 92.93, 138.29, 200.45, 390.29, 105.84, 1575.84, 5961.88, 172.04, 313.17, 416.42, 195.25, 533.13, 693.5, 22.2, 141.31, 115.5, 1364.44, 128.02, 215.05, 558.8, 560.78, 105.11, 532.91, 292.45, 473.55, 422.74, 484.93, 444.31, 822.02, 444.53, 693.45, 777.69, 1247.52, 1378.16, 171.57, 203.94, 1593.57, 351.72, 548.64, 1002.48, 511.77, 1124.09, 324.54, 414.23, 4404.75, 429.89, 1417.32, 39.27, 289.17, 47.04, 2010.96, 2096.39, 48.51, 61.86, 118.25, 400.44, 806.81, 136.19, 977.04, 151.52, 155.4, 302.22, 463.91, 854.22, 181.88, 213.06, 221.76, 443.4, 290.22, 868.14, 358.26, 412.02, 2959.74, 428.24, 547.5, 621.12, 1038.24, 506.63, 719.04, 1217.16, 847.98, 1150.57, 620.55, 3189.06, 46.66, 234.36, 123.0, 942.25, 216.32, 392.04, 666.82, 273.74, 669.38, 311.65, 1882.55, 315.5, 1884.25, 358.8, 772.8, 493.0, 955.15, 2643.0, 591.28, 39.6, 310.54, 68.64, 79.79, 672.38, 1385.01, 77.97, 984.35, 86.71, 339.57, 2646.86, 113.18, 115.04, 415.8, 908.02, 622.56, 211.8, 382.26, 452.41, 1894.28, 223.5, 603.44, 239.4, 432.0, 283.19, 1284.41, 2186.06, 374.73, 1189.56, 20042.09, 384.48, 576.6, 1008.84, 1582.92, 1746.0, 894.24, 21077.2, 124.8, 236.25, 308.69, 87.42, 600.63, 892.76, 92.04, 292.32, 363.35, 143.01, 197.82, 309.02, 562.8, 197.06, 199.5, 265.48, 1550.9, 200.4, 540.38, 770.96, 44.26, 224.4, 65.6, 134.21, 838.12, 166.52, 360.96, 42.04, 138.35, 964.28, 82.1, 220.0, 358.16, 234.43, 506.66, 2182.75, 38.81, 369.82, 46.0, 516.0, 71.9, 181.28, 596.81, 334.82, 522.48, 607.01, 41.65, 43.34, 346.83, 2187.11, 1008.3, 173.04, 490.14, 1098.72, 899.51, 416.06, 2314.62, 352.8, 503.46, 662.4, 431.11, 447.26, 464.09, 463.75, 564.38, 1218.6, 3897.0, 467.27, 887.25, 1163.5, 188.55, 62.7, 225.63, 282.15, 210.71, 355.74, 775.28, 229.76, 441.32, 512.98, 649.53, 98.93, 277.2, 3298.56, 179.63, 754.95, 95.54, 263.01, 141.04, 387.44, 206.54, 2723.66, 561.54, 624.33, 1068.8, 52.9, 72.45, 129.89, 183.89, 53.48, 3376.4, 166.32, 467.4, 1635.38, 140.18, 2856.48, 55.94, 81.02, 394.13, 92.16, 165.6, 1308.29, 154.08, 158.4, 1842.34, 198.98, 450.5, 9035.75, 163.36, 3931.22, 162.47, 274.33, 340.82, 366.3, 228.85, 1171.76, 335.04, 429.12, 476.25, 502.5, 1026.25, 189.55, 1199.22, 1661.44, 109.87, 736.34, 480.38, 545.65, 1054.55, 67.61, 73.68, 1040.63, 1641.75, 102.6, 476.88, 875.0, 110.81, 650.52, 151.25, 242.08, 314.92, 313.54, 383.68, 476.96, 1161.93, 1768.8, 80.35, 100.65, 408.45, 1712.5, 112.09, 126.39, 213.4, 1556.5, 196.82, 551.14, 243.89, 1158.51, 89.25, 206.72, 505.64, 1624.56, 119.76, 131.04, 433.56, 886.95, 121.83, 697.75, 166.95, 297.99, 399.84, 508.57, 181.56, 471.74, 1191.36, 1797.81, 341.33, 399.6, 450.72, 5068.56, 885.78, 484.79, 2530.71, 95.5, 122.25, 623.25, 116.64, 522.65, 245.12, 2562.32, 278.17, 435.99, 724.5, 2046.66, 123.17, 2089.04, 236.78, 1427.5, 459.95, 210.97, 408.48, 375.38, 4935.48, 8495.55, 198.45, 511.88, 732.15, 267.75, 1247.0, 3298.5, 3659.04, 458.64, 602.11, 639.45, 1163.25, 2415.0], \"yaxis\": \"y\"}],\n",
              "                        {\"legend\": {\"tracegroupgap\": 0}, \"margin\": {\"t\": 60}, \"template\": {\"data\": {\"bar\": [{\"error_x\": {\"color\": \"#2a3f5f\"}, \"error_y\": {\"color\": \"#2a3f5f\"}, \"marker\": {\"line\": {\"color\": \"#E5ECF6\", \"width\": 0.5}}, \"type\": \"bar\"}], \"barpolar\": [{\"marker\": {\"line\": {\"color\": \"#E5ECF6\", \"width\": 0.5}}, \"type\": \"barpolar\"}], \"carpet\": [{\"aaxis\": {\"endlinecolor\": \"#2a3f5f\", \"gridcolor\": \"white\", \"linecolor\": \"white\", \"minorgridcolor\": \"white\", \"startlinecolor\": \"#2a3f5f\"}, \"baxis\": {\"endlinecolor\": \"#2a3f5f\", \"gridcolor\": \"white\", \"linecolor\": \"white\", \"minorgridcolor\": \"white\", \"startlinecolor\": \"#2a3f5f\"}, \"type\": \"carpet\"}], \"choropleth\": [{\"colorbar\": {\"outlinewidth\": 0, \"ticks\": \"\"}, \"type\": \"choropleth\"}], \"contour\": [{\"colorbar\": {\"outlinewidth\": 0, \"ticks\": \"\"}, \"colorscale\": [[0.0, \"#0d0887\"], [0.1111111111111111, \"#46039f\"], [0.2222222222222222, \"#7201a8\"], [0.3333333333333333, \"#9c179e\"], [0.4444444444444444, \"#bd3786\"], [0.5555555555555556, \"#d8576b\"], [0.6666666666666666, \"#ed7953\"], [0.7777777777777778, \"#fb9f3a\"], [0.8888888888888888, \"#fdca26\"], [1.0, \"#f0f921\"]], \"type\": \"contour\"}], \"contourcarpet\": [{\"colorbar\": {\"outlinewidth\": 0, \"ticks\": \"\"}, \"type\": \"contourcarpet\"}], \"heatmap\": [{\"colorbar\": {\"outlinewidth\": 0, \"ticks\": \"\"}, \"colorscale\": [[0.0, \"#0d0887\"], [0.1111111111111111, \"#46039f\"], [0.2222222222222222, \"#7201a8\"], [0.3333333333333333, \"#9c179e\"], [0.4444444444444444, \"#bd3786\"], [0.5555555555555556, \"#d8576b\"], [0.6666666666666666, \"#ed7953\"], [0.7777777777777778, \"#fb9f3a\"], [0.8888888888888888, \"#fdca26\"], [1.0, \"#f0f921\"]], \"type\": \"heatmap\"}], \"heatmapgl\": [{\"colorbar\": {\"outlinewidth\": 0, \"ticks\": \"\"}, \"colorscale\": [[0.0, \"#0d0887\"], [0.1111111111111111, \"#46039f\"], [0.2222222222222222, \"#7201a8\"], [0.3333333333333333, \"#9c179e\"], [0.4444444444444444, \"#bd3786\"], [0.5555555555555556, \"#d8576b\"], [0.6666666666666666, \"#ed7953\"], [0.7777777777777778, \"#fb9f3a\"], [0.8888888888888888, \"#fdca26\"], [1.0, \"#f0f921\"]], \"type\": \"heatmapgl\"}], \"histogram\": [{\"marker\": {\"colorbar\": {\"outlinewidth\": 0, \"ticks\": \"\"}}, \"type\": \"histogram\"}], \"histogram2d\": [{\"colorbar\": {\"outlinewidth\": 0, \"ticks\": \"\"}, \"colorscale\": [[0.0, \"#0d0887\"], [0.1111111111111111, \"#46039f\"], [0.2222222222222222, \"#7201a8\"], [0.3333333333333333, \"#9c179e\"], [0.4444444444444444, \"#bd3786\"], [0.5555555555555556, \"#d8576b\"], [0.6666666666666666, \"#ed7953\"], [0.7777777777777778, \"#fb9f3a\"], [0.8888888888888888, \"#fdca26\"], [1.0, \"#f0f921\"]], \"type\": \"histogram2d\"}], \"histogram2dcontour\": [{\"colorbar\": {\"outlinewidth\": 0, \"ticks\": \"\"}, \"colorscale\": [[0.0, \"#0d0887\"], [0.1111111111111111, \"#46039f\"], [0.2222222222222222, \"#7201a8\"], [0.3333333333333333, \"#9c179e\"], [0.4444444444444444, \"#bd3786\"], [0.5555555555555556, \"#d8576b\"], [0.6666666666666666, \"#ed7953\"], [0.7777777777777778, \"#fb9f3a\"], [0.8888888888888888, \"#fdca26\"], [1.0, \"#f0f921\"]], \"type\": \"histogram2dcontour\"}], \"mesh3d\": [{\"colorbar\": {\"outlinewidth\": 0, \"ticks\": \"\"}, \"type\": \"mesh3d\"}], \"parcoords\": [{\"line\": {\"colorbar\": {\"outlinewidth\": 0, \"ticks\": \"\"}}, \"type\": \"parcoords\"}], \"pie\": [{\"automargin\": true, \"type\": \"pie\"}], \"scatter\": [{\"marker\": {\"colorbar\": {\"outlinewidth\": 0, \"ticks\": \"\"}}, \"type\": \"scatter\"}], \"scatter3d\": [{\"line\": {\"colorbar\": {\"outlinewidth\": 0, \"ticks\": \"\"}}, \"marker\": {\"colorbar\": {\"outlinewidth\": 0, \"ticks\": \"\"}}, \"type\": \"scatter3d\"}], \"scattercarpet\": [{\"marker\": {\"colorbar\": {\"outlinewidth\": 0, \"ticks\": \"\"}}, \"type\": \"scattercarpet\"}], \"scattergeo\": [{\"marker\": {\"colorbar\": {\"outlinewidth\": 0, \"ticks\": \"\"}}, \"type\": \"scattergeo\"}], \"scattergl\": [{\"marker\": {\"colorbar\": {\"outlinewidth\": 0, \"ticks\": \"\"}}, \"type\": \"scattergl\"}], \"scattermapbox\": [{\"marker\": {\"colorbar\": {\"outlinewidth\": 0, \"ticks\": \"\"}}, \"type\": \"scattermapbox\"}], \"scatterpolar\": [{\"marker\": {\"colorbar\": {\"outlinewidth\": 0, \"ticks\": \"\"}}, \"type\": \"scatterpolar\"}], \"scatterpolargl\": [{\"marker\": {\"colorbar\": {\"outlinewidth\": 0, \"ticks\": \"\"}}, \"type\": \"scatterpolargl\"}], \"scatterternary\": [{\"marker\": {\"colorbar\": {\"outlinewidth\": 0, \"ticks\": \"\"}}, \"type\": \"scatterternary\"}], \"surface\": [{\"colorbar\": {\"outlinewidth\": 0, \"ticks\": \"\"}, \"colorscale\": [[0.0, \"#0d0887\"], [0.1111111111111111, \"#46039f\"], [0.2222222222222222, \"#7201a8\"], [0.3333333333333333, \"#9c179e\"], [0.4444444444444444, \"#bd3786\"], [0.5555555555555556, \"#d8576b\"], [0.6666666666666666, \"#ed7953\"], [0.7777777777777778, \"#fb9f3a\"], [0.8888888888888888, \"#fdca26\"], [1.0, \"#f0f921\"]], \"type\": \"surface\"}], \"table\": [{\"cells\": {\"fill\": {\"color\": \"#EBF0F8\"}, \"line\": {\"color\": \"white\"}}, \"header\": {\"fill\": {\"color\": \"#C8D4E3\"}, \"line\": {\"color\": \"white\"}}, \"type\": \"table\"}]}, \"layout\": {\"annotationdefaults\": {\"arrowcolor\": \"#2a3f5f\", \"arrowhead\": 0, \"arrowwidth\": 1}, \"coloraxis\": {\"colorbar\": {\"outlinewidth\": 0, \"ticks\": \"\"}}, \"colorscale\": {\"diverging\": [[0, \"#8e0152\"], [0.1, \"#c51b7d\"], [0.2, \"#de77ae\"], [0.3, \"#f1b6da\"], [0.4, \"#fde0ef\"], [0.5, \"#f7f7f7\"], [0.6, \"#e6f5d0\"], [0.7, \"#b8e186\"], [0.8, \"#7fbc41\"], [0.9, \"#4d9221\"], [1, \"#276419\"]], \"sequential\": [[0.0, \"#0d0887\"], [0.1111111111111111, \"#46039f\"], [0.2222222222222222, \"#7201a8\"], [0.3333333333333333, \"#9c179e\"], [0.4444444444444444, \"#bd3786\"], [0.5555555555555556, \"#d8576b\"], [0.6666666666666666, \"#ed7953\"], [0.7777777777777778, \"#fb9f3a\"], [0.8888888888888888, \"#fdca26\"], [1.0, \"#f0f921\"]], \"sequentialminus\": [[0.0, \"#0d0887\"], [0.1111111111111111, \"#46039f\"], [0.2222222222222222, \"#7201a8\"], [0.3333333333333333, \"#9c179e\"], [0.4444444444444444, \"#bd3786\"], [0.5555555555555556, \"#d8576b\"], [0.6666666666666666, \"#ed7953\"], [0.7777777777777778, \"#fb9f3a\"], [0.8888888888888888, \"#fdca26\"], [1.0, \"#f0f921\"]]}, \"colorway\": [\"#636efa\", \"#EF553B\", \"#00cc96\", \"#ab63fa\", \"#FFA15A\", \"#19d3f3\", \"#FF6692\", \"#B6E880\", \"#FF97FF\", \"#FECB52\"], \"font\": {\"color\": \"#2a3f5f\"}, \"geo\": {\"bgcolor\": \"white\", \"lakecolor\": \"white\", \"landcolor\": \"#E5ECF6\", \"showlakes\": true, \"showland\": true, \"subunitcolor\": \"white\"}, \"hoverlabel\": {\"align\": \"left\"}, \"hovermode\": \"closest\", \"mapbox\": {\"style\": \"light\"}, \"paper_bgcolor\": \"white\", \"plot_bgcolor\": \"#E5ECF6\", \"polar\": {\"angularaxis\": {\"gridcolor\": \"white\", \"linecolor\": \"white\", \"ticks\": \"\"}, \"bgcolor\": \"#E5ECF6\", \"radialaxis\": {\"gridcolor\": \"white\", \"linecolor\": \"white\", \"ticks\": \"\"}}, \"scene\": {\"xaxis\": {\"backgroundcolor\": \"#E5ECF6\", \"gridcolor\": \"white\", \"gridwidth\": 2, \"linecolor\": \"white\", \"showbackground\": true, \"ticks\": \"\", \"zerolinecolor\": \"white\"}, \"yaxis\": {\"backgroundcolor\": \"#E5ECF6\", \"gridcolor\": \"white\", \"gridwidth\": 2, \"linecolor\": \"white\", \"showbackground\": true, \"ticks\": \"\", \"zerolinecolor\": \"white\"}, \"zaxis\": {\"backgroundcolor\": \"#E5ECF6\", \"gridcolor\": \"white\", \"gridwidth\": 2, \"linecolor\": \"white\", \"showbackground\": true, \"ticks\": \"\", \"zerolinecolor\": \"white\"}}, \"shapedefaults\": {\"line\": {\"color\": \"#2a3f5f\"}}, \"ternary\": {\"aaxis\": {\"gridcolor\": \"white\", \"linecolor\": \"white\", \"ticks\": \"\"}, \"baxis\": {\"gridcolor\": \"white\", \"linecolor\": \"white\", \"ticks\": \"\"}, \"bgcolor\": \"#E5ECF6\", \"caxis\": {\"gridcolor\": \"white\", \"linecolor\": \"white\", \"ticks\": \"\"}}, \"title\": {\"x\": 0.05}, \"xaxis\": {\"automargin\": true, \"gridcolor\": \"white\", \"linecolor\": \"white\", \"ticks\": \"\", \"title\": {\"standoff\": 15}, \"zerolinecolor\": \"white\", \"zerolinewidth\": 2}, \"yaxis\": {\"automargin\": true, \"gridcolor\": \"white\", \"linecolor\": \"white\", \"ticks\": \"\", \"title\": {\"standoff\": 15}, \"zerolinecolor\": \"white\", \"zerolinewidth\": 2}}}, \"xaxis\": {\"anchor\": \"y\", \"domain\": [0.0, 1.0], \"title\": {\"text\": \"x\"}}, \"yaxis\": {\"anchor\": \"x\", \"domain\": [0.0, 1.0], \"title\": {\"text\": \"y\"}}},\n",
              "                        {\"responsive\": true}\n",
              "                    ).then(function(){\n",
              "                            \n",
              "var gd = document.getElementById('a2fbada5-af07-47df-b539-33298731d8c8');\n",
              "var x = new MutationObserver(function (mutations, observer) {{\n",
              "        var display = window.getComputedStyle(gd).display;\n",
              "        if (!display || display === 'none') {{\n",
              "            console.log([gd, 'removed!']);\n",
              "            Plotly.purge(gd);\n",
              "            observer.disconnect();\n",
              "        }}\n",
              "}});\n",
              "\n",
              "// Listen for the removal of the full notebook cells\n",
              "var notebookContainer = gd.closest('#notebook-container');\n",
              "if (notebookContainer) {{\n",
              "    x.observe(notebookContainer, {childList: true});\n",
              "}}\n",
              "\n",
              "// Listen for the clearing of the current output cell\n",
              "var outputEl = gd.closest('.output');\n",
              "if (outputEl) {{\n",
              "    x.observe(outputEl, {childList: true});\n",
              "}}\n",
              "\n",
              "                        })\n",
              "                };\n",
              "                \n",
              "            </script>\n",
              "        </div>\n",
              "</body>\n",
              "</html>"
            ]
          },
          "metadata": {}
        }
      ]
    },
    {
      "cell_type": "code",
      "metadata": {
        "colab": {
          "base_uri": "https://localhost:8080/"
        },
        "id": "gpcDDDhio9CM",
        "outputId": "7d649f00-f9ad-4b9b-e124-214a2e075f57"
      },
      "source": [
        "import numpy\n",
        "mean_cd = numpy.mean(union_final['ValorLiquido'].loc[union_final['Desconto']==0])\n",
        "sd_cd = numpy.std(union_final['ValorLiquido'].loc[union_final['Desconto']==0])\n",
        "\n",
        "mean_sd = numpy.mean(union_final['ValorLiquido'].loc[union_final['Desconto']!=0])\n",
        "sd_sd = numpy.std(union_final['ValorLiquido'].loc[union_final['Desconto']!=0])\n",
        "print(mean_cd, mean_sd, sd_cd, sd_sd)"
      ],
      "execution_count": 493,
      "outputs": [
        {
          "output_type": "stream",
          "name": "stdout",
          "text": [
            "258.7788773317593 108.42664777358495 628.151642993937 281.05195454657246\n"
          ]
        }
      ]
    },
    {
      "cell_type": "code",
      "metadata": {
        "colab": {
          "base_uri": "https://localhost:8080/"
        },
        "id": "1OM_LnopqGhE",
        "outputId": "16682644-c95e-4a15-ce45-a64fa6f4eb20"
      },
      "source": [
        "print(union_final['ValorLiquido'].loc[union_final['Desconto']==0].count(),\n",
        "      union_final['ValorLiquido'].loc[union_final['Desconto']!=0].count())"
      ],
      "execution_count": 491,
      "outputs": [
        {
          "output_type": "stream",
          "name": "stdout",
          "text": [
            "847 1325\n"
          ]
        }
      ]
    },
    {
      "cell_type": "code",
      "metadata": {
        "colab": {
          "base_uri": "https://localhost:8080/"
        },
        "id": "6IgD4ZsWqvXk",
        "outputId": "d4de9eb9-028a-4915-cd55-b833c6aa3741"
      },
      "source": [
        "mean_cd = numpy.mean(union_final['Quantidade'].loc[union_final['Desconto']==0])\n",
        "sd_cd = numpy.std(union_final['Quantidade'].loc[union_final['Desconto']==0])\n",
        "\n",
        "mean_sd = numpy.mean(union_final['ValorLiquido'].loc[union_final['Desconto']!=0])\n",
        "sd_sd = numpy.std(union_final['ValorLiquido'].loc[union_final['Desconto']!=0])\n",
        "print(mean_cd, mean_sd, sd_cd, sd_sd)"
      ],
      "execution_count": 494,
      "outputs": [
        {
          "output_type": "stream",
          "name": "stdout",
          "text": [
            "27.51003541912633 108.42664777358495 21.173251282986445 281.05195454657246\n"
          ]
        }
      ]
    },
    {
      "cell_type": "code",
      "metadata": {
        "colab": {
          "base_uri": "https://localhost:8080/",
          "height": 423
        },
        "id": "bTkmRBbZqxs8",
        "outputId": "dcbbdd91-1b5e-4c17-ff23-e402e9dc21ae"
      },
      "source": [
        "j=76\n",
        "mean_cd = numpy.mean(union_final['ValorLiquido'].loc[union_final['Desconto']==0].loc[union_final['ProdutoID']==j])\n",
        "sd_cd = numpy.std(union_final['ValorLiquido'].loc[union_final['Desconto']==0].loc[union_final['ProdutoID']==j])\n",
        "\n",
        "mean_sd = numpy.mean(union_final['ValorLiquido'].loc[union_final['Desconto']!=0].loc[union_final['ProdutoID']==j])\n",
        "sd_sd = numpy.std(union_final['ValorLiquido'].loc[union_final['Desconto']!=0].loc[union_final['ProdutoID']==j])\n",
        "\n",
        "print(mean_cd, mean_sd, sd_cd, sd_sd)\n",
        "\n",
        "union_final.loc[union_final['ProdutoID']==j].boxplot(column=['ValorLiquido'], by=['Desconto?'])\n",
        "\n",
        "print(union_final['ValorLiquido'].loc[union_final['Desconto']==0].loc[union_final['ProdutoID']==j].count(),\n",
        "      union_final['ValorLiquido'].loc[union_final['Desconto']!=0].loc[union_final['ProdutoID']==j].count())"
      ],
      "execution_count": 506,
      "outputs": [
        {
          "output_type": "stream",
          "name": "stdout",
          "text": [
            "3565.2066384615387 1365.0867115384613 2910.7710634655064 1285.0557500075852\n",
            "13 26\n"
          ]
        },
        {
          "output_type": "stream",
          "name": "stderr",
          "text": [
            "/usr/local/lib/python3.7/dist-packages/numpy/core/_asarray.py:83: VisibleDeprecationWarning:\n",
            "\n",
            "Creating an ndarray from ragged nested sequences (which is a list-or-tuple of lists-or-tuples-or ndarrays with different lengths or shapes) is deprecated. If you meant to do this, you must specify 'dtype=object' when creating the ndarray\n",
            "\n"
          ]
        },
        {
          "output_type": "display_data",
          "data": {
            "image/png": "[encoded data removed]",
            "text/plain": [
              "<Figure size 432x288 with 1 Axes>"
            ]
          },
          "metadata": {
            "needs_background": "light"
          }
        }
      ]
    }
  ]
}